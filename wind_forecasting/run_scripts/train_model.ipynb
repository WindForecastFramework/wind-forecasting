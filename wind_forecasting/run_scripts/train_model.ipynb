{
 "cells": [
  {
   "cell_type": "code",
   "execution_count": null,
   "metadata": {
    "vscode": {
     "languageId": "plaintext"
    }
   },
   "outputs": [],
   "source": [
    "class WindFarm(Dataset):\n",
    "    def __init__(self, data_dir, seq_len=1200):\n",
    "        self.seq_len = seq_len\n",
    "        # data = np.loadtxt(data_path, delimiter=',', skiprows=1, dtype=None)\n",
    "        data = DataReader().get_results_data([data_dir])[\"lut_LUT\"].to_pandas()\n",
    "        \n",
    "        wind_dir_cols = sorted([col for col in data.columns if \"wind_direction\" in col])\n",
    "        wind_mag_cols = sorted([col for col in data.columns if \"wind_speed\" in col])\n",
    "        turbine_yaw_cols = sorted([col for col in data.columns if \"nacelle_direction\" in col])\n",
    "\n",
    "        self.X = self.normalize(data.loc[:, wind_dir_cols + wind_mag_cols + turbine_yaw_cols + turbine_power_cols].to_numpy()) # 5 variables\n",
    "        self.y = data.loc[:, turbine_power_cols].to_numpy()\n",
    "        self.num_labels = len(np.unique(self.y))\n",
    "        self.len = len(self.y)\n",
    "\n",
    "    def __len__(self):\n",
    "        return (self.len - self.seq_len)-1\n",
    "\n",
    "    def __getitem__(self, idx):\n",
    "        x = np.transpose(self.X[idx:idx+self.seq_len])\n",
    "        label = self.y[idx+self.seq_len+1]\n",
    "\n",
    "        return torch.tensor(x, dtype=torch.float), torch.tensor(label, dtype=torch.float)\n"
   ]
  },
  {
   "cell_type": "code",
   "execution_count": null,
   "metadata": {
    "vscode": {
     "languageId": "plaintext"
    }
   },
   "outputs": [],
   "source": []
  }
 ],
 "metadata": {
  "language_info": {
   "name": "python"
  }
 },
 "nbformat": 4,
 "nbformat_minor": 2
}
