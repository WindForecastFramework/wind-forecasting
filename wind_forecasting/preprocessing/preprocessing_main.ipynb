{
 "cells": [
  {
   "cell_type": "code",
   "execution_count": 1,
   "metadata": {},
   "outputs": [
    {
     "name": "stderr",
     "output_type": "stream",
     "text": [
      "[ahenry-39583s:01190] shmem: mmap: an error occurred while determining whether or not /var/folders/15/zl_rr3g10_b5j7bk42pk4dgr4qydb3/T//ompi.ahenry-39583s.159331683/jf.0/3366846464/sm_segment.ahenry-39583s.159331683.c8ae0000.0 could be created.\n",
      "/Users/ahenry/miniconda3/envs/wind_forecasting_env/lib/python3.12/site-packages/tqdm/auto.py:21: TqdmWarning: IProgress not found. Please update jupyter and ipywidgets. See https://ipywidgets.readthedocs.io/en/stable/user_install.html\n",
      "  from .autonotebook import tqdm as notebook_tqdm\n",
      "2024-10-16 09:18:11,772 - WARNING - /Users/ahenry/miniconda3/envs/wind_forecasting_env/lib/python3.12/site-packages/h5pyd/version.py:23: DeprecationWarning: distutils Version classes are deprecated. Use packaging.version instead.\n",
      "  _exp = _sv(version)\n",
      "\n"
     ]
    }
   ],
   "source": [
    "# ! module load mambaforge\n",
    "# ! mamba create -n wind_forecasting_env python=3.12\n",
    "# ! mamba activate wind_forecasting_env\n",
    "# ! conda install -c conda-forge jupyterlab mpi4py impi_rt\n",
    "# ! pip install ./OpenOA # have to change pyproject.toml to allow for python 3.12.7\n",
    "# ! pip install floris polars windrose netCDF4 statsmodels h5pyd seaborn pyarrow memory_profiler\n",
    "\n",
    "#%load_ext memory_profiler\n",
    "from data_loader import DataLoader\n",
    "from data_filter import DataFilter\n",
    "from data_inspector import DataInspector\n",
    "from openoa.utils import qa, plot, filters, power_curve, imputing\n",
    "import polars.selectors as cs\n",
    "import polars as pl\n",
    "import numpy as np\n",
    "import matplotlib.pyplot as plt\n",
    "import seaborn as sns\n",
    "from sys import platform\n",
    "import os\n",
    "import re\n",
    "import pandas as pd"
   ]
  },
  {
   "cell_type": "markdown",
   "metadata": {},
   "source": [
    "## Print NetCDF Data Structure, Load Data, Transform Datetime Columns"
   ]
  },
  {
   "cell_type": "code",
   "execution_count": 2,
   "metadata": {},
   "outputs": [],
   "source": [
    "PLOT = False\n",
    "RELOAD_DATA = True\n",
    "\n",
    "if platform == \"darwin\":\n",
    "    DATA_DIR = \"/Users/ahenry/Documents/toolboxes/wind_forecasting/examples/data\"\n",
    "    # PL_SAVE_PATH = \"/Users/ahenry/Documents/toolboxes/wind_forecasting/examples/data/kp.turbine.zo2.b0.raw.parquet\"\n",
    "    # FILE_SIGNATURE = \"kp.turbine.z02.b0.*.*.*.nc\"\n",
    "    PL_SAVE_PATH = \"/Users/ahenry/Documents/toolboxes/wind_forecasting/examples/data/short_kp.turbine.zo2.b0.raw.parquet\"\n",
    "    FILE_SIGNATURE = \"kp.turbine.z02.b0.202203*.*.*.nc\"\n",
    "    MULTIPROCESSOR = \"cf\"\n",
    "    TURBINE_INPUT_FILEPATH = \"/Users/ahenry/Documents/toolboxes/wind_forecasting/examples/inputs/ge_282_127.yaml\"\n",
    "    FARM_INPUT_FILEPATH = \"/Users/ahenry/Documents/toolboxes/wind_forecasting/examples/inputs/gch_KP_v4.yaml\"\n",
    "elif platform == \"linux\":\n",
    "    DATA_DIR = \"/pl/active/paolab/awaken_data/kp.turbine.z02.b0/\"\n",
    "    PL_SAVE_PATH = \"/scratch/alpine/aohe7145/awaken_data/kp.turbine.zo2.b0.raw.parquet\"\n",
    "    FILE_SIGNATURE = \"kp.turbine.z02.b0.*.*.*.nc\"\n",
    "    MULTIPROCESSOR = \"mpi\"\n",
    "    TURBINE_INPUT_FILEPATH = \"/projects/aohe7145/toolboxes/wind-forecasting/examples/inputs/ge_282_127.yaml\"\n",
    "    FARM_INPUT_FILEPATH = \"/projects/aohe7145/toolboxes/wind-forecasting/examples/inputs/gch_KP_v4.yaml\"\n",
    "\n",
    "DT = 5\n",
    "\n",
    "data_loader = DataLoader(data_dir=DATA_DIR, file_signature=FILE_SIGNATURE, multiprocessor=MULTIPROCESSOR, save_path=PL_SAVE_PATH, dt=DT,\n",
    "                         features=[\"time\", \"turbine_id\", \"turbine_status\", \"wind_direction\", \"wind_speed\", \"power_output\", \"nacelle_direction\"])"
   ]
  },
  {
   "cell_type": "code",
   "execution_count": 3,
   "metadata": {},
   "outputs": [
    {
     "name": "stderr",
     "output_type": "stream",
     "text": [
      "2024-10-16 09:18:12,740 - INFO - NetCDF File: kp.turbine.z02.b0.20220316.000000.wt033.nc\n",
      "2024-10-16 09:18:12,741 - INFO - \n",
      "Global Attributes:\n",
      "2024-10-16 09:18:12,742 - INFO - \n",
      "Dimensions:\n",
      "2024-10-16 09:18:12,742 - INFO -   date: 39242\n",
      "2024-10-16 09:18:12,743 - INFO -   string7: 7\n",
      "2024-10-16 09:18:12,743 - INFO - \n",
      "Variables:\n",
      "2024-10-16 09:18:12,744 - INFO -   Flag:\n",
      "2024-10-16 09:18:12,745 - INFO -     Dimensions: ('date', 'string7')\n",
      "2024-10-16 09:18:12,745 - INFO -     Shape: (39242, 7)\n",
      "2024-10-16 09:18:12,747 - INFO -     Data type: |S1\n",
      "2024-10-16 09:18:12,747 - INFO -     Attributes:\n",
      "2024-10-16 09:18:12,757 - INFO -       _Encoding: utf-8\n",
      "2024-10-16 09:18:12,758 - INFO -   date:\n",
      "2024-10-16 09:18:12,759 - INFO -     Dimensions: ('date',)\n",
      "2024-10-16 09:18:12,760 - INFO -     Shape: (39242,)\n",
      "2024-10-16 09:18:12,761 - INFO -     Data type: int32\n",
      "2024-10-16 09:18:12,761 - INFO -     Attributes:\n",
      "2024-10-16 09:18:12,762 - INFO -       units: milliseconds since 2022-03-16 20:18:28.499000\n",
      "2024-10-16 09:18:12,762 - INFO -       calendar: proleptic_gregorian\n",
      "2024-10-16 09:18:12,791 - INFO -   WCNV.GnA1:\n",
      "2024-10-16 09:18:12,791 - INFO -     Dimensions: ('date',)\n",
      "2024-10-16 09:18:12,792 - INFO -     Shape: (39242,)\n",
      "2024-10-16 09:18:12,792 - INFO -     Data type: float64\n",
      "2024-10-16 09:18:12,792 - INFO -     Attributes:\n",
      "2024-10-16 09:18:12,795 - INFO -       _FillValue: nan\n",
      "2024-10-16 09:18:12,796 - INFO -   WCNV.GnA2:\n",
      "2024-10-16 09:18:12,797 - INFO -     Dimensions: ('date',)\n",
      "2024-10-16 09:18:12,797 - INFO -     Shape: (39242,)\n",
      "2024-10-16 09:18:12,797 - INFO -     Data type: float64\n",
      "2024-10-16 09:18:12,798 - INFO -     Attributes:\n",
      "2024-10-16 09:18:12,799 - INFO -       _FillValue: nan\n",
      "2024-10-16 09:18:12,802 - INFO -   WCNV.GnA3:\n",
      "2024-10-16 09:18:12,803 - INFO -     Dimensions: ('date',)\n",
      "2024-10-16 09:18:12,807 - INFO -     Shape: (39242,)\n",
      "2024-10-16 09:18:12,810 - INFO -     Data type: float64\n",
      "2024-10-16 09:18:12,811 - INFO -     Attributes:\n",
      "2024-10-16 09:18:12,813 - INFO -       _FillValue: nan\n",
      "2024-10-16 09:18:12,813 - INFO -   WCNV.GnPNV1:\n",
      "2024-10-16 09:18:12,813 - INFO -     Dimensions: ('date',)\n",
      "2024-10-16 09:18:12,814 - INFO -     Shape: (39242,)\n",
      "2024-10-16 09:18:12,817 - INFO -     Data type: float64\n",
      "2024-10-16 09:18:12,821 - INFO -     Attributes:\n",
      "2024-10-16 09:18:12,824 - INFO -       _FillValue: nan\n",
      "2024-10-16 09:18:12,829 - INFO -   WCNV.GnPNV2:\n",
      "2024-10-16 09:18:12,833 - INFO -     Dimensions: ('date',)\n",
      "2024-10-16 09:18:12,833 - INFO -     Shape: (39242,)\n",
      "2024-10-16 09:18:12,834 - INFO -     Data type: float64\n",
      "2024-10-16 09:18:12,838 - INFO -     Attributes:\n",
      "2024-10-16 09:18:12,840 - INFO -       _FillValue: nan\n",
      "2024-10-16 09:18:12,841 - INFO -   WCNV.GnPNV3:\n",
      "2024-10-16 09:18:12,842 - INFO -     Dimensions: ('date',)\n",
      "2024-10-16 09:18:12,843 - INFO -     Shape: (39242,)\n",
      "2024-10-16 09:18:12,843 - INFO -     Data type: float64\n",
      "2024-10-16 09:18:12,844 - INFO -     Attributes:\n",
      "2024-10-16 09:18:12,844 - INFO -       _FillValue: nan\n",
      "2024-10-16 09:18:12,845 - INFO -   WTUR.W:\n",
      "2024-10-16 09:18:12,846 - INFO -     Dimensions: ('date',)\n",
      "2024-10-16 09:18:12,848 - INFO -     Shape: (39242,)\n",
      "2024-10-16 09:18:12,849 - INFO -     Data type: float64\n",
      "2024-10-16 09:18:12,852 - INFO -     Attributes:\n",
      "2024-10-16 09:18:12,856 - INFO -       _FillValue: nan\n",
      "2024-10-16 09:18:12,858 - INFO -   WAVL.TurAvl:\n",
      "2024-10-16 09:18:12,859 - INFO -     Dimensions: ('date',)\n",
      "2024-10-16 09:18:12,860 - INFO -     Shape: (39242,)\n",
      "2024-10-16 09:18:12,861 - INFO -     Data type: float64\n",
      "2024-10-16 09:18:12,863 - INFO -     Attributes:\n",
      "2024-10-16 09:18:12,863 - INFO -       _FillValue: nan\n",
      "2024-10-16 09:18:12,863 - INFO -   WGEN.BrgDETmp:\n",
      "2024-10-16 09:18:12,864 - INFO -     Dimensions: ('date',)\n",
      "2024-10-16 09:18:12,865 - INFO -     Shape: (39242,)\n",
      "2024-10-16 09:18:12,866 - INFO -     Data type: float64\n",
      "2024-10-16 09:18:12,867 - INFO -     Attributes:\n",
      "2024-10-16 09:18:12,868 - INFO -       _FillValue: nan\n",
      "2024-10-16 09:18:12,869 - INFO -   WGEN.BrgNDETmp:\n",
      "2024-10-16 09:18:12,871 - INFO -     Dimensions: ('date',)\n",
      "2024-10-16 09:18:12,873 - INFO -     Shape: (39242,)\n",
      "2024-10-16 09:18:12,874 - INFO -     Data type: float64\n",
      "2024-10-16 09:18:12,874 - INFO -     Attributes:\n",
      "2024-10-16 09:18:12,875 - INFO -       _FillValue: nan\n",
      "2024-10-16 09:18:12,876 - INFO -   WGEN.InLetTmp:\n",
      "2024-10-16 09:18:12,878 - INFO -     Dimensions: ('date',)\n",
      "2024-10-16 09:18:12,879 - INFO -     Shape: (39242,)\n",
      "2024-10-16 09:18:12,880 - INFO -     Data type: float64\n",
      "2024-10-16 09:18:12,881 - INFO -     Attributes:\n",
      "2024-10-16 09:18:12,882 - INFO -       _FillValue: nan\n",
      "2024-10-16 09:18:12,883 - INFO -   WGEN.SttTmp1:\n",
      "2024-10-16 09:18:12,884 - INFO -     Dimensions: ('date',)\n",
      "2024-10-16 09:18:12,885 - INFO -     Shape: (39242,)\n",
      "2024-10-16 09:18:12,888 - INFO -     Data type: float64\n",
      "2024-10-16 09:18:12,889 - INFO -     Attributes:\n",
      "2024-10-16 09:18:12,890 - INFO -       _FillValue: nan\n",
      "2024-10-16 09:18:12,890 - INFO -   WGEN.SttTmp2:\n",
      "2024-10-16 09:18:12,891 - INFO -     Dimensions: ('date',)\n",
      "2024-10-16 09:18:12,892 - INFO -     Shape: (39242,)\n",
      "2024-10-16 09:18:12,894 - INFO -     Data type: float64\n",
      "2024-10-16 09:18:12,895 - INFO -     Attributes:\n",
      "2024-10-16 09:18:12,897 - INFO -       _FillValue: nan\n",
      "2024-10-16 09:18:12,898 - INFO -   WGEN.RotSpd:\n",
      "2024-10-16 09:18:12,899 - INFO -     Dimensions: ('date',)\n",
      "2024-10-16 09:18:12,900 - INFO -     Shape: (39242,)\n",
      "2024-10-16 09:18:12,901 - INFO -     Data type: float64\n",
      "2024-10-16 09:18:12,902 - INFO -     Attributes:\n",
      "2024-10-16 09:18:12,903 - INFO -       _FillValue: nan\n",
      "2024-10-16 09:18:12,904 - INFO -   WNAC.Dir:\n",
      "2024-10-16 09:18:12,904 - INFO -     Dimensions: ('date',)\n",
      "2024-10-16 09:18:12,905 - INFO -     Shape: (39242,)\n",
      "2024-10-16 09:18:12,906 - INFO -     Data type: float64\n",
      "2024-10-16 09:18:12,906 - INFO -     Attributes:\n",
      "2024-10-16 09:18:12,907 - INFO -       _FillValue: nan\n",
      "2024-10-16 09:18:12,907 - INFO -   WNAC.Tmp:\n",
      "2024-10-16 09:18:12,907 - INFO -     Dimensions: ('date',)\n",
      "2024-10-16 09:18:12,908 - INFO -     Shape: (39242,)\n",
      "2024-10-16 09:18:12,908 - INFO -     Data type: float64\n",
      "2024-10-16 09:18:12,908 - INFO -     Attributes:\n",
      "2024-10-16 09:18:12,909 - INFO -       _FillValue: nan\n",
      "2024-10-16 09:18:12,909 - INFO -   WMET.EnvTmp:\n",
      "2024-10-16 09:18:12,910 - INFO -     Dimensions: ('date',)\n",
      "2024-10-16 09:18:12,910 - INFO -     Shape: (39242,)\n",
      "2024-10-16 09:18:12,910 - INFO -     Data type: float64\n",
      "2024-10-16 09:18:12,911 - INFO -     Attributes:\n",
      "2024-10-16 09:18:12,912 - INFO -       _FillValue: nan\n",
      "2024-10-16 09:18:12,912 - INFO -   WROT.BlPthAngVal1:\n",
      "2024-10-16 09:18:12,912 - INFO -     Dimensions: ('date',)\n",
      "2024-10-16 09:18:12,913 - INFO -     Shape: (39242,)\n",
      "2024-10-16 09:18:12,913 - INFO -     Data type: float64\n",
      "2024-10-16 09:18:12,913 - INFO -     Attributes:\n",
      "2024-10-16 09:18:12,914 - INFO -       _FillValue: nan\n",
      "2024-10-16 09:18:12,914 - INFO -   WROT.BlPthAngVal2:\n",
      "2024-10-16 09:18:12,915 - INFO -     Dimensions: ('date',)\n",
      "2024-10-16 09:18:12,917 - INFO -     Shape: (39242,)\n",
      "2024-10-16 09:18:12,917 - INFO -     Data type: float64\n",
      "2024-10-16 09:18:12,918 - INFO -     Attributes:\n",
      "2024-10-16 09:18:12,921 - INFO -       _FillValue: nan\n",
      "2024-10-16 09:18:12,921 - INFO -   WROT.BlPthAngVal3:\n",
      "2024-10-16 09:18:12,922 - INFO -     Dimensions: ('date',)\n",
      "2024-10-16 09:18:12,923 - INFO -     Shape: (39242,)\n",
      "2024-10-16 09:18:12,923 - INFO -     Data type: float64\n",
      "2024-10-16 09:18:12,924 - INFO -     Attributes:\n",
      "2024-10-16 09:18:12,924 - INFO -       _FillValue: nan\n",
      "2024-10-16 09:18:12,925 - INFO -   WROT.RotSpd:\n",
      "2024-10-16 09:18:12,926 - INFO -     Dimensions: ('date',)\n",
      "2024-10-16 09:18:12,926 - INFO -     Shape: (39242,)\n",
      "2024-10-16 09:18:12,926 - INFO -     Data type: float64\n",
      "2024-10-16 09:18:12,927 - INFO -     Attributes:\n",
      "2024-10-16 09:18:12,927 - INFO -       _FillValue: nan\n",
      "2024-10-16 09:18:12,927 - INFO -   WTUR.TurSt:\n",
      "2024-10-16 09:18:12,927 - INFO -     Dimensions: ('date',)\n",
      "2024-10-16 09:18:12,928 - INFO -     Shape: (39242,)\n",
      "2024-10-16 09:18:12,928 - INFO -     Data type: float64\n",
      "2024-10-16 09:18:12,928 - INFO -     Attributes:\n",
      "2024-10-16 09:18:12,929 - INFO -       _FillValue: nan\n",
      "2024-10-16 09:18:12,929 - INFO -   WMET.HorWdDir:\n",
      "2024-10-16 09:18:12,929 - INFO -     Dimensions: ('date',)\n",
      "2024-10-16 09:18:12,929 - INFO -     Shape: (39242,)\n",
      "2024-10-16 09:18:12,930 - INFO -     Data type: float64\n",
      "2024-10-16 09:18:12,931 - INFO -     Attributes:\n",
      "2024-10-16 09:18:12,931 - INFO -       _FillValue: nan\n",
      "2024-10-16 09:18:12,932 - INFO -   WMET.HorWdSpd:\n",
      "2024-10-16 09:18:12,933 - INFO -     Dimensions: ('date',)\n",
      "2024-10-16 09:18:12,933 - INFO -     Shape: (39242,)\n",
      "2024-10-16 09:18:12,933 - INFO -     Data type: float64\n",
      "2024-10-16 09:18:12,934 - INFO -     Attributes:\n",
      "2024-10-16 09:18:12,934 - INFO -       _FillValue: nan\n"
     ]
    }
   ],
   "source": [
    "data_loader.print_netcdf_structure(data_loader.file_paths[0])"
   ]
  },
  {
   "cell_type": "code",
   "execution_count": 4,
   "metadata": {},
   "outputs": [
    {
     "name": "stderr",
     "output_type": "stream",
     "text": [
      "[ahenry-39583s:01309] shmem: mmap: an error occurred while determining whether or not /var/folders/15/zl_rr3g10_b5j7bk42pk4dgr4qydb3/T//ompi.ahenry-39583s.159331683/jf.0/2130116608/sm_segment.ahenry-39583s.159331683.7ef70000.0 could be created.\n",
      "[ahenry-39583s:01310] shmem: mmap: an error occurred while determining whether or not /var/folders/15/zl_rr3g10_b5j7bk42pk4dgr4qydb3/T//ompi.ahenry-39583s.159331683/jf.0/100990976/sm_segment.ahenry-39583s.159331683.6050000.0 could be created.\n",
      "[ahenry-39583s:01308] shmem: mmap: an error occurred while determining whether or not /var/folders/15/zl_rr3g10_b5j7bk42pk4dgr4qydb3/T//ompi.ahenry-39583s.159331683/jf.0/218890240/sm_segment.ahenry-39583s.159331683.d0c0000.0 could be created.\n",
      "2024-10-16 09:18:20,118 - INFO - Processed /Users/ahenry/Documents/toolboxes/wind_forecasting/examples/data/kp.turbine.z02.b0.20220325.000000.wt028.nc\n",
      "[ahenry-39583s:01315] shmem: mmap: an error occurred while determining whether or not /var/folders/15/zl_rr3g10_b5j7bk42pk4dgr4qydb3/T//ompi.ahenry-39583s.159331683/jf.0/923009024/sm_segment.ahenry-39583s.159331683.37040000.0 could be created.\n",
      "[ahenry-39583s:01313] shmem: mmap: an error occurred while determining whether or not /var/folders/15/zl_rr3g10_b5j7bk42pk4dgr4qydb3/T//ompi.ahenry-39583s.159331683/jf.0/2441805824/sm_segment.ahenry-39583s.159331683.918b0000.0 could be created.\n",
      "2024-10-16 09:18:20,541 - INFO - Processed /Users/ahenry/Documents/toolboxes/wind_forecasting/examples/data/kp.turbine.z02.b0.20220324.000000.wt033.nc\n",
      "2024-10-16 09:18:20,556 - INFO - Processed /Users/ahenry/Documents/toolboxes/wind_forecasting/examples/data/kp.turbine.z02.b0.20220308.000000.wt073.nc\n",
      "2024-10-16 09:18:20,872 - INFO - Processed /Users/ahenry/Documents/toolboxes/wind_forecasting/examples/data/kp.turbine.z02.b0.20220323.000000.wt033.nc\n",
      "2024-10-16 09:18:20,927 - INFO - Processed /Users/ahenry/Documents/toolboxes/wind_forecasting/examples/data/kp.turbine.z02.b0.20220309.000000.wt028.nc\n",
      "[ahenry-39583s:01316] shmem: mmap: an error occurred while determining whether or not /var/folders/15/zl_rr3g10_b5j7bk42pk4dgr4qydb3/T//ompi.ahenry-39583s.159331683/jf.0/883163136/sm_segment.ahenry-39583s.159331683.34a40000.0 could be created.\n",
      "[ahenry-39583s:01304] shmem: mmap: an error occurred while determining whether or not /var/folders/15/zl_rr3g10_b5j7bk42pk4dgr4qydb3/T//ompi.ahenry-39583s.159331683/jf.0/3254976512/sm_segment.ahenry-39583s.159331683.c2030000.0 could be created.\n",
      "[ahenry-39583s:01307] shmem: mmap: an error occurred while determining whether or not /var/folders/15/zl_rr3g10_b5j7bk42pk4dgr4qydb3/T//ompi.ahenry-39583s.159331683/jf.0/3631284224/sm_segment.ahenry-39583s.159331683.d8710000.0 could be created.\n",
      "[ahenry-39583s:01311] shmem: mmap: an error occurred while determining whether or not /var/folders/15/zl_rr3g10_b5j7bk42pk4dgr4qydb3/T//ompi.ahenry-39583s.159331683/jf.0/874250240/sm_segment.ahenry-39583s.159331683.341c0000.0 could be created.\n",
      "2024-10-16 09:18:21,384 - INFO - Processed /Users/ahenry/Documents/toolboxes/wind_forecasting/examples/data/kp.turbine.z02.b0.20220307.000000.wt033.nc\n",
      "2024-10-16 09:18:21,389 - INFO - Processed /Users/ahenry/Documents/toolboxes/wind_forecasting/examples/data/kp.turbine.z02.b0.20220324.000000.wt073.nc\n",
      "2024-10-16 09:18:21,398 - INFO - Processed /Users/ahenry/Documents/toolboxes/wind_forecasting/examples/data/kp.turbine.z02.b0.20220316.000000.wt033.nc\n",
      "2024-10-16 09:18:21,502 - INFO - Processed /Users/ahenry/Documents/toolboxes/wind_forecasting/examples/data/kp.turbine.z02.b0.20220323.000000.wt073.nc\n",
      "2024-10-16 09:18:21,621 - INFO - Processed /Users/ahenry/Documents/toolboxes/wind_forecasting/examples/data/kp.turbine.z02.b0.20220316.000000.wt073.nc\n",
      "2024-10-16 09:18:21,622 - INFO - Processed /Users/ahenry/Documents/toolboxes/wind_forecasting/examples/data/kp.turbine.z02.b0.20220306.000000.wt028.nc\n",
      "2024-10-16 09:18:21,637 - INFO - Processed /Users/ahenry/Documents/toolboxes/wind_forecasting/examples/data/kp.turbine.z02.b0.20220308.000000.wt033.nc\n",
      "2024-10-16 09:18:21,672 - INFO - Processed /Users/ahenry/Documents/toolboxes/wind_forecasting/examples/data/kp.turbine.z02.b0.20220318.000000.wt073.nc\n",
      "[ahenry-39583s:01306] shmem: mmap: an error occurred while determining whether or not /var/folders/15/zl_rr3g10_b5j7bk42pk4dgr4qydb3/T//ompi.ahenry-39583s.159331683/jf.0/1269170176/sm_segment.ahenry-39583s.159331683.4ba60000.0 could be created.\n",
      "2024-10-16 09:18:21,840 - INFO - Processed /Users/ahenry/Documents/toolboxes/wind_forecasting/examples/data/kp.turbine.z02.b0.20220318.000000.wt028.nc\n",
      "2024-10-16 09:18:21,890 - INFO - Processed /Users/ahenry/Documents/toolboxes/wind_forecasting/examples/data/kp.turbine.z02.b0.20220322.000000.wt028.nc\n",
      "2024-10-16 09:18:22,043 - INFO - Processed /Users/ahenry/Documents/toolboxes/wind_forecasting/examples/data/kp.turbine.z02.b0.20220319.000000.wt073.nc\n",
      "2024-10-16 09:18:22,141 - INFO - Processed /Users/ahenry/Documents/toolboxes/wind_forecasting/examples/data/kp.turbine.z02.b0.20220307.000000.wt073.nc\n",
      "2024-10-16 09:18:22,237 - INFO - Processed /Users/ahenry/Documents/toolboxes/wind_forecasting/examples/data/kp.turbine.z02.b0.20220309.000000.wt033.nc\n",
      "[ahenry-39583s:01314] shmem: mmap: an error occurred while determining whether or not /var/folders/15/zl_rr3g10_b5j7bk42pk4dgr4qydb3/T//ompi.ahenry-39583s.159331683/jf.0/1290665984/sm_segment.ahenry-39583s.159331683.4cee0000.0 could be created.\n",
      "2024-10-16 09:18:22,320 - INFO - Processed /Users/ahenry/Documents/toolboxes/wind_forecasting/examples/data/kp.turbine.z02.b0.20220322.000000.wt033.nc\n",
      "2024-10-16 09:18:22,409 - INFO - Processed /Users/ahenry/Documents/toolboxes/wind_forecasting/examples/data/kp.turbine.z02.b0.20220301.000000.wt073.nc\n",
      "2024-10-16 09:18:22,459 - INFO - Processed /Users/ahenry/Documents/toolboxes/wind_forecasting/examples/data/kp.turbine.z02.b0.20220325.000000.wt073.nc\n",
      "2024-10-16 09:18:22,468 - INFO - Processed /Users/ahenry/Documents/toolboxes/wind_forecasting/examples/data/kp.turbine.z02.b0.20220308.000000.wt028.nc\n",
      "[ahenry-39583s:01312] shmem: mmap: an error occurred while determining whether or not /var/folders/15/zl_rr3g10_b5j7bk42pk4dgr4qydb3/T//ompi.ahenry-39583s.159331683/jf.0/1628962816/sm_segment.ahenry-39583s.159331683.61180000.0 could be created.\n",
      "2024-10-16 09:18:22,593 - INFO - Processed /Users/ahenry/Documents/toolboxes/wind_forecasting/examples/data/kp.turbine.z02.b0.20220306.000000.wt033.nc\n",
      "2024-10-16 09:18:22,659 - INFO - Processed /Users/ahenry/Documents/toolboxes/wind_forecasting/examples/data/kp.turbine.z02.b0.20220317.000000.wt073.nc\n",
      "2024-10-16 09:18:22,816 - INFO - Processed /Users/ahenry/Documents/toolboxes/wind_forecasting/examples/data/kp.turbine.z02.b0.20220316.000000.wt028.nc\n",
      "2024-10-16 09:18:22,835 - INFO - Processed /Users/ahenry/Documents/toolboxes/wind_forecasting/examples/data/kp.turbine.z02.b0.20220323.000000.wt028.nc\n",
      "2024-10-16 09:18:22,840 - INFO - Processed /Users/ahenry/Documents/toolboxes/wind_forecasting/examples/data/kp.turbine.z02.b0.20220309.000000.wt073.nc\n",
      "2024-10-16 09:18:22,864 - INFO - Processed /Users/ahenry/Documents/toolboxes/wind_forecasting/examples/data/kp.turbine.z02.b0.20220324.000000.wt028.nc\n",
      "2024-10-16 09:18:23,092 - INFO - Processed /Users/ahenry/Documents/toolboxes/wind_forecasting/examples/data/kp.turbine.z02.b0.20220307.000000.wt028.nc\n",
      "2024-10-16 09:18:23,103 - INFO - Processed /Users/ahenry/Documents/toolboxes/wind_forecasting/examples/data/kp.turbine.z02.b0.20220319.000000.wt028.nc\n",
      "2024-10-16 09:18:23,347 - INFO - Processed /Users/ahenry/Documents/toolboxes/wind_forecasting/examples/data/kp.turbine.z02.b0.20220306.000000.wt073.nc\n",
      "2024-10-16 09:18:23,362 - INFO - Processed /Users/ahenry/Documents/toolboxes/wind_forecasting/examples/data/kp.turbine.z02.b0.20220317.000000.wt033.nc\n",
      "2024-10-16 09:18:23,375 - INFO - Processed /Users/ahenry/Documents/toolboxes/wind_forecasting/examples/data/kp.turbine.z02.b0.20220318.000000.wt033.nc\n",
      "2024-10-16 09:18:23,407 - INFO - Processed /Users/ahenry/Documents/toolboxes/wind_forecasting/examples/data/kp.turbine.z02.b0.20220301.000000.wt028.nc\n",
      "2024-10-16 09:18:23,411 - INFO - Processed /Users/ahenry/Documents/toolboxes/wind_forecasting/examples/data/kp.turbine.z02.b0.20220322.000000.wt073.nc\n",
      "2024-10-16 09:18:23,507 - INFO - Processed /Users/ahenry/Documents/toolboxes/wind_forecasting/examples/data/kp.turbine.z02.b0.20220301.000000.wt033.nc\n",
      "2024-10-16 09:18:23,713 - INFO - Processed /Users/ahenry/Documents/toolboxes/wind_forecasting/examples/data/kp.turbine.z02.b0.20220325.000000.wt033.nc\n",
      "2024-10-16 09:18:23,719 - INFO - Processed /Users/ahenry/Documents/toolboxes/wind_forecasting/examples/data/kp.turbine.z02.b0.20220321.000000.wt028.nc\n",
      "2024-10-16 09:18:23,737 - INFO - Processed /Users/ahenry/Documents/toolboxes/wind_forecasting/examples/data/kp.turbine.z02.b0.20220303.000000.wt073.nc\n",
      "2024-10-16 09:18:23,816 - INFO - Processed /Users/ahenry/Documents/toolboxes/wind_forecasting/examples/data/kp.turbine.z02.b0.20220320.000000.wt033.nc\n",
      "2024-10-16 09:18:24,076 - INFO - Processed /Users/ahenry/Documents/toolboxes/wind_forecasting/examples/data/kp.turbine.z02.b0.20220328.000000.wt073.nc\n",
      "2024-10-16 09:18:24,125 - INFO - Processed /Users/ahenry/Documents/toolboxes/wind_forecasting/examples/data/kp.turbine.z02.b0.20220331.000000.wt073.nc\n",
      "2024-10-16 09:18:24,343 - INFO - Processed /Users/ahenry/Documents/toolboxes/wind_forecasting/examples/data/kp.turbine.z02.b0.20220327.000000.wt073.nc\n",
      "2024-10-16 09:18:24,347 - INFO - Processed /Users/ahenry/Documents/toolboxes/wind_forecasting/examples/data/kp.turbine.z02.b0.20220331.000000.wt033.nc\n",
      "2024-10-16 09:18:24,456 - INFO - Processed /Users/ahenry/Documents/toolboxes/wind_forecasting/examples/data/kp.turbine.z02.b0.20220304.000000.wt033.nc\n",
      "2024-10-16 09:18:24,468 - INFO - Processed /Users/ahenry/Documents/toolboxes/wind_forecasting/examples/data/kp.turbine.z02.b0.20220305.000000.wt028.nc\n",
      "2024-10-16 09:18:24,480 - INFO - Processed /Users/ahenry/Documents/toolboxes/wind_forecasting/examples/data/kp.turbine.z02.b0.20220326.000000.wt028.nc\n",
      "2024-10-16 09:18:24,500 - INFO - Processed /Users/ahenry/Documents/toolboxes/wind_forecasting/examples/data/kp.turbine.z02.b0.20220317.000000.wt028.nc\n",
      "2024-10-16 09:18:24,743 - INFO - Processed /Users/ahenry/Documents/toolboxes/wind_forecasting/examples/data/kp.turbine.z02.b0.20220328.000000.wt033.nc\n",
      "2024-10-16 09:18:24,755 - INFO - Processed /Users/ahenry/Documents/toolboxes/wind_forecasting/examples/data/kp.turbine.z02.b0.20220319.000000.wt033.nc\n",
      "2024-10-16 09:18:24,788 - INFO - Processed /Users/ahenry/Documents/toolboxes/wind_forecasting/examples/data/kp.turbine.z02.b0.20220327.000000.wt033.nc\n",
      "2024-10-16 09:18:24,800 - INFO - Processed /Users/ahenry/Documents/toolboxes/wind_forecasting/examples/data/kp.turbine.z02.b0.20220320.000000.wt073.nc\n",
      "2024-10-16 09:18:25,183 - INFO - Processed /Users/ahenry/Documents/toolboxes/wind_forecasting/examples/data/kp.turbine.z02.b0.20220304.000000.wt073.nc\n",
      "2024-10-16 09:18:25,253 - INFO - Processed /Users/ahenry/Documents/toolboxes/wind_forecasting/examples/data/kp.turbine.z02.b0.20220321.000000.wt073.nc\n",
      "2024-10-16 09:18:25,270 - INFO - Processed /Users/ahenry/Documents/toolboxes/wind_forecasting/examples/data/kp.turbine.z02.b0.20220303.000000.wt033.nc\n",
      "2024-10-16 09:18:25,303 - INFO - Processed /Users/ahenry/Documents/toolboxes/wind_forecasting/examples/data/kp.turbine.z02.b0.20220329.000000.wt028.nc\n",
      "2024-10-16 09:18:25,335 - INFO - Processed /Users/ahenry/Documents/toolboxes/wind_forecasting/examples/data/kp.turbine.z02.b0.20220302.000000.wt028.nc\n",
      "2024-10-16 09:18:25,340 - INFO - Processed /Users/ahenry/Documents/toolboxes/wind_forecasting/examples/data/kp.turbine.z02.b0.20220330.000000.wt033.nc\n",
      "2024-10-16 09:18:25,843 - INFO - Processed /Users/ahenry/Documents/toolboxes/wind_forecasting/examples/data/kp.turbine.z02.b0.20220328.000000.wt028.nc\n",
      "2024-10-16 09:18:25,894 - INFO - Processed /Users/ahenry/Documents/toolboxes/wind_forecasting/examples/data/kp.turbine.z02.b0.20220303.000000.wt028.nc\n",
      "2024-10-16 09:18:26,018 - INFO - Processed /Users/ahenry/Documents/toolboxes/wind_forecasting/examples/data/kp.turbine.z02.b0.20220305.000000.wt073.nc\n",
      "2024-10-16 09:18:26,107 - INFO - Processed /Users/ahenry/Documents/toolboxes/wind_forecasting/examples/data/kp.turbine.z02.b0.20220331.000000.wt028.nc\n",
      "2024-10-16 09:18:26,186 - INFO - Processed /Users/ahenry/Documents/toolboxes/wind_forecasting/examples/data/kp.turbine.z02.b0.20220326.000000.wt033.nc\n",
      "2024-10-16 09:18:26,242 - INFO - Processed /Users/ahenry/Documents/toolboxes/wind_forecasting/examples/data/kp.turbine.z02.b0.20220321.000000.wt033.nc\n",
      "2024-10-16 09:18:26,370 - INFO - Processed /Users/ahenry/Documents/toolboxes/wind_forecasting/examples/data/kp.turbine.z02.b0.20220302.000000.wt033.nc\n",
      "2024-10-16 09:18:26,462 - INFO - Processed /Users/ahenry/Documents/toolboxes/wind_forecasting/examples/data/kp.turbine.z02.b0.20220302.000000.wt073.nc\n",
      "2024-10-16 09:18:26,481 - INFO - Processed /Users/ahenry/Documents/toolboxes/wind_forecasting/examples/data/kp.turbine.z02.b0.20220330.000000.wt028.nc\n",
      "2024-10-16 09:18:26,526 - INFO - Processed /Users/ahenry/Documents/toolboxes/wind_forecasting/examples/data/kp.turbine.z02.b0.20220327.000000.wt028.nc\n",
      "2024-10-16 09:18:26,677 - INFO - Processed /Users/ahenry/Documents/toolboxes/wind_forecasting/examples/data/kp.turbine.z02.b0.20220305.000000.wt033.nc\n",
      "2024-10-16 09:18:26,678 - INFO - Processed /Users/ahenry/Documents/toolboxes/wind_forecasting/examples/data/kp.turbine.z02.b0.20220329.000000.wt033.nc\n",
      "2024-10-16 09:18:26,679 - INFO - Processed /Users/ahenry/Documents/toolboxes/wind_forecasting/examples/data/kp.turbine.z02.b0.20220329.000000.wt073.nc\n",
      "2024-10-16 09:18:26,746 - INFO - Processed /Users/ahenry/Documents/toolboxes/wind_forecasting/examples/data/kp.turbine.z02.b0.20220330.000000.wt073.nc\n",
      "2024-10-16 09:18:26,828 - INFO - Processed /Users/ahenry/Documents/toolboxes/wind_forecasting/examples/data/kp.turbine.z02.b0.20220326.000000.wt073.nc\n",
      "2024-10-16 09:18:26,926 - INFO - Processed /Users/ahenry/Documents/toolboxes/wind_forecasting/examples/data/kp.turbine.z02.b0.20220304.000000.wt028.nc\n",
      "2024-10-16 09:18:26,947 - INFO - Processed /Users/ahenry/Documents/toolboxes/wind_forecasting/examples/data/kp.turbine.z02.b0.20220320.000000.wt028.nc\n"
     ]
    }
   ],
   "source": [
    "if not RELOAD_DATA and os.path.exists(data_loader.save_path):\n",
    "    # Note that the order of the columns in the provided schema must match the order of the columns in the CSV being read.\n",
    "    \n",
    "    schema = pl.Schema({**{\"time\": pl.Datetime(time_unit=\"ms\")},\n",
    "                        **{\n",
    "                            f\"{feat}_{tid}\": pl.Float64\n",
    "                            for feat in [\"turbine_status\", \"wind_direction\", \"wind_speed\", \"power_output\", \"nacelle_direction\"] \n",
    "                            for tid in [f\"wt{d+1:03d}\" for d in range(88)]}\n",
    "                        })\n",
    "    \n",
    "    df_query = pl.scan_parquet(source=data_loader.save_path, hive_schema=schema)\n",
    "else:\n",
    "    df_query = data_loader.read_multi_netcdf()"
   ]
  },
  {
   "cell_type": "markdown",
   "metadata": {},
   "source": [
    "## Plot Wind Farm, Data Distributions"
   ]
  },
  {
   "cell_type": "code",
   "execution_count": 5,
   "metadata": {},
   "outputs": [],
   "source": [
    "data_inspector = DataInspector(turbine_input_filepath=TURBINE_INPUT_FILEPATH, farm_input_filepath=FARM_INPUT_FILEPATH)"
   ]
  },
  {
   "cell_type": "code",
   "execution_count": 6,
   "metadata": {},
   "outputs": [],
   "source": [
    "if PLOT and False:\n",
    "    data_inspector.plot_wind_farm()"
   ]
  },
  {
   "cell_type": "code",
   "execution_count": 7,
   "metadata": {},
   "outputs": [],
   "source": [
    "if PLOT:\n",
    "    data_inspector.plot_wind_speed_power(df_query, turbine_ids=[\"wt073\"])"
   ]
  },
  {
   "cell_type": "code",
   "execution_count": 8,
   "metadata": {},
   "outputs": [],
   "source": [
    "if PLOT:\n",
    "    data_inspector.plot_wind_speed_weibull(df_query, turbine_ids=[\"wt073\"])"
   ]
  },
  {
   "cell_type": "code",
   "execution_count": 9,
   "metadata": {},
   "outputs": [],
   "source": [
    "if PLOT:\n",
    "    data_inspector.plot_wind_rose(df_query, turbine_ids=[\"wt073\"])"
   ]
  },
  {
   "cell_type": "code",
   "execution_count": 10,
   "metadata": {},
   "outputs": [],
   "source": [
    "if PLOT:\n",
    "    data_inspector.plot_correlation(df_query, \n",
    "    np.concatenate([[f\"wind_speed_{tid}\", f\"wind_direction_{tid}\", f\"nacelle_direction_{tid}\"] for tid in [\"wt073\"]]))"
   ]
  },
  {
   "cell_type": "code",
   "execution_count": 11,
   "metadata": {},
   "outputs": [],
   "source": [
    "if PLOT:\n",
    "    data_inspector.plot_boxplot_wind_speed_direction(df_query, turbine_ids=[\"wt073\"])"
   ]
  },
  {
   "cell_type": "code",
   "execution_count": 12,
   "metadata": {},
   "outputs": [],
   "source": [
    "if PLOT:\n",
    "    data_inspector.plot_time_series(df_query, turbine_ids=[\"wt073\"])"
   ]
  },
  {
   "cell_type": "markdown",
   "metadata": {},
   "source": [
    "## OpenOA Data Preparation & Inspection"
   ]
  },
  {
   "cell_type": "code",
   "execution_count": 13,
   "metadata": {},
   "outputs": [],
   "source": [
    "def get_features(df, feature_types, turbine_ids=\"all\"):\n",
    "    if feature_types is not None and not isinstance(feature_types, list):\n",
    "        feature_types = [feature_types]\n",
    "\n",
    "    if turbine_ids == \"all\":\n",
    "        return sorted([col for col in df.collect_schema().names() if any(feat in col for feat in feature_types)])\n",
    "    else:\n",
    "        return sorted([col for col in df.collect_schema().names() if any(feat in col and tid in col for feat in feature_types for tid in turbine_ids)])\n",
    "\n",
    "ws_cols = get_features(df_query, \"wind_speed\")\n",
    "wd_cols = get_features(df_query, \"wind_direction\")\n",
    "pwr_cols = get_features(df_query, \"power_output\")"
   ]
  },
  {
   "cell_type": "code",
   "execution_count": 14,
   "metadata": {},
   "outputs": [],
   "source": [
    "def collect_data(df, feature_types=None, turbine_ids=\"all\", mask=None, to_pandas=True):\n",
    "    if feature_types is not None and not isinstance(feature_types, list):\n",
    "        feature_types = [feature_types]\n",
    "\n",
    "    if feature_types is not None:\n",
    "        df = df.select([pl.col(feat) for feat in get_features(df, feature_types, turbine_ids)])\n",
    "    \n",
    "    if mask is not None:\n",
    "        df = df.filter(mask)\n",
    "\n",
    "    if to_pandas:\n",
    "        return df.collect(streaming=True).to_pandas()\n",
    "    else:\n",
    "        return df.collect(streaming=True)"
   ]
  },
  {
   "cell_type": "markdown",
   "metadata": {},
   "source": [
    "### Functions to compute similarity between datasets"
   ]
  },
  {
   "cell_type": "code",
   "execution_count": 15,
   "metadata": {},
   "outputs": [],
   "source": [
    "from scipy.stats import entropy\n",
    "from scipy.spatial.distance import jensenshannon\n",
    "from scipy.special import kl_div\n",
    "def compute_probs(data, n=10): \n",
    "    h, e = np.histogram(data, n)\n",
    "    p = h / data.shape[0]\n",
    "    return e, p\n",
    "\n",
    "def support_intersection(p, q): \n",
    "    sup_int = (\n",
    "        list(\n",
    "            filter(\n",
    "                lambda x: (x[0] != 0) & (x[1] != 0), zip(p, q)\n",
    "            )\n",
    "        )\n",
    "    )\n",
    "    return sup_int\n",
    "\n",
    "def get_probs(list_of_tuples): \n",
    "    p = np.array([p[0] for p in list_of_tuples])\n",
    "    q = np.array([p[1] for p in list_of_tuples])\n",
    "    return p, q\n",
    "\n",
    "def kl_divergence(p, q): \n",
    "    return np.sum(p * np.log(p / q))\n",
    "\n",
    "def js_divergence(p, q):\n",
    "    m = (1./2.) * (p + q)\n",
    "    return (1./2.) * kl_divergence(p, m) + (1./2.) * kl_divergence(q, m)\n",
    "\n",
    "def compute_kl_divergence(train_sample, test_sample, n_bins=10): \n",
    "    \"\"\"\n",
    "    Computes the KL Divergence using the support \n",
    "    intersection between two different samples\n",
    "    \"\"\"\n",
    "    e, p = compute_probs(train_sample, n=n_bins)\n",
    "    _, q = compute_probs(test_sample, n=e)\n",
    "\n",
    "    list_of_tuples = support_intersection(p, q)\n",
    "    p, q = get_probs(list_of_tuples)\n",
    "    \n",
    "    return kl_divergence(p, q)\n",
    "\n",
    "def compute_js_divergence(train_sample, test_sample, n_bins=100): \n",
    "    \"\"\"\n",
    "    Computes the JS Divergence using the support \n",
    "    intersection between two different samples\n",
    "    \"\"\"\n",
    "    e, p = compute_probs(train_sample, n=n_bins)\n",
    "    _, q = compute_probs(test_sample, n=e)\n",
    "    \n",
    "    list_of_tuples = support_intersection(p, q)\n",
    "    p, q = get_probs(list_of_tuples)\n",
    "    \n",
    "    return js_divergence(p, q)\n"
   ]
  },
  {
   "cell_type": "code",
   "execution_count": 16,
   "metadata": {},
   "outputs": [
    {
     "name": "stdout",
     "output_type": "stream",
     "text": [
      "Features of interest = ['time', 'turbine_id', 'turbine_status', 'wind_direction', 'wind_speed', 'power_output', 'nacelle_direction']\n",
      "Available features = ['time', 'turbine_status_wt028', 'turbine_status_wt033', 'turbine_status_wt073', 'wind_direction_wt028', 'wind_direction_wt033', 'wind_direction_wt073', 'wind_speed_wt028', 'wind_speed_wt033', 'wind_speed_wt073', 'power_output_wt028', 'power_output_wt033', 'power_output_wt073', 'nacelle_direction_wt028', 'nacelle_direction_wt033', 'nacelle_direction_wt073']\n"
     ]
    },
    {
     "data": {
      "text/plain": [
       "['wt028', 'wt033', 'wt073']"
      ]
     },
     "execution_count": 16,
     "metadata": {},
     "output_type": "execute_result"
    }
   ],
   "source": [
    "print(f\"Features of interest = {data_loader.features}\")\n",
    "cols = df_query.collect_schema().names()\n",
    "print(f\"Available features = {cols}\")\n",
    "# qa.describe(collect_data(df=df_query))\n",
    "\n",
    "available_turbines = sorted(np.unique([re.findall(f\"(?<=wind_direction_)(.*)\", col)[0] for col in cols if \"wind_direction\" in col]))\n",
    "available_turbines"
   ]
  },
  {
   "cell_type": "code",
   "execution_count": 17,
   "metadata": {},
   "outputs": [],
   "source": [
    "if PLOT:\n",
    "    plot.column_histograms(collect_data(df=df_query, \n",
    "    feature_types=sorted(get_features(df_query, [\"wind_speed\", \"wind_direction\", \"power_output\", \"nacelle_direction\"], [\"wt073\", \"wt028\", \"wt033\"]))))"
   ]
  },
  {
   "cell_type": "code",
   "execution_count": 18,
   "metadata": {},
   "outputs": [],
   "source": [
    "data_filter = DataFilter(turbine_availability_col=None, turbine_status_col=\"turbine_status\")"
   ]
  },
  {
   "cell_type": "markdown",
   "metadata": {},
   "source": [
    "### Remove Inoperational Turbine Rows"
   ]
  },
  {
   "cell_type": "code",
   "execution_count": 19,
   "metadata": {},
   "outputs": [
    {
     "name": "stderr",
     "output_type": "stream",
     "text": [
      "2024-10-16 09:21:06,963 - WARNING - /Users/ahenry/miniconda3/envs/wind_forecasting_env/lib/python3.12/site-packages/IPython/core/pylabtools.py:77: DeprecationWarning: backend2gui is deprecated since IPython 8.24, backends are managed in matplotlib and can be externally registered.\n",
      "  warnings.warn(\n",
      "\n"
     ]
    },
    {
     "name": "stdout",
     "output_type": "stream",
     "text": [
      "JS Score for Turbine wt028 Wind Speed = 0.006187799601757506\n",
      "JS Score for Turbine wt028 Wind Direction = 0.003551823175139578\n",
      "JS Score for Turbine wt033 Wind Speed = 0.006674385174051825\n",
      "JS Score for Turbine wt033 Wind Direction = 0.0032823078176376017\n",
      "JS Score for Turbine wt073 Wind Speed = 0.006981501026235623\n",
      "JS Score for Turbine wt073 Wind Direction = 0.003970987317358354\n"
     ]
    },
    {
     "data": {
      "image/png": "[encoded data removed]",
      "text/plain": [
       "<Figure size 1500x600 with 2 Axes>"
      ]
     },
     "metadata": {},
     "output_type": "display_data"
    }
   ],
   "source": [
    "# check if wind speed/dir measurements from inoperational turbines differ from fully operational \n",
    "# df_query_op = data_filter.filter_inoperational(df_query, status_codes=[1], include_nan=False)\n",
    "# df_query_inop = data_filter.filter_inoperational(df_query, status_codes=[2,3,4,5], include_nan=False)\n",
    "\n",
    "\n",
    "fig, ax = plt.subplots(2, 1, sharex=True)\n",
    "t_idx = 0\n",
    "status_codes = [1]\n",
    "tid = ws_cols[t_idx].split(\"_\")[-1]\n",
    "df_query_op = df_query.filter(pl.col(f\"turbine_status_{tid}\").is_in(status_codes)).select([ws_cols[t_idx], wd_cols[t_idx]])\n",
    "# df_query_inop = df_query.filter(~(pl.col(f\"turbine_status_{tid}\").is_in(status_codes)) & pl.col(f\"turbine_status_{tid}\").is_not_null()).select([ws_cols[t_idx], wd_cols[t_idx]])\n",
    "df_query_all = df_query.select([ws_cols[t_idx], wd_cols[t_idx]])\n",
    "y = df_query_op.select(wd_cols[t_idx]).collect(streaming=True).to_numpy().flatten()\n",
    "ax[0].scatter(x=[\"operational\"] * y.shape[0], y=y, color=\"red\")\n",
    "y = df_query_all.select(wd_cols[t_idx]).collect(streaming=True).to_numpy().flatten()\n",
    "ax[0].scatter(x=[\"inoperational\"] * y.shape[0], y=y, color=\"blue\", label=\"inoperational measurements\")\n",
    "\n",
    "y = df_query_op.select(ws_cols[t_idx]).collect(streaming=True).to_numpy().flatten()\n",
    "ax[1].scatter(x=[\"operational\"] * y.shape[0], y=y, color=\"red\")\n",
    "y = df_query_all.select(ws_cols[t_idx]).collect(streaming=True).to_numpy().flatten()\n",
    "ax[1].scatter(x=[\"inoperational\"] * y.shape[0], y=y, color=\"blue\", label=\"inoperational measurements\")\n",
    "del y\n",
    "\n",
    "ax[1].set_xlabel(\"Measurement Type\")\n",
    "ax[0].set_title(\"Wind Direction [deg]\")\n",
    "ax[1].set_title(\"Wind Speed [m/s]\")\n",
    "\n",
    "# loop through each turbine's wind speed and wind direction columns, and compare the distribution of data with and without the inoperational turbines\n",
    "threshold = 0.05\n",
    "mask = lambda tid: pl.col(f\"turbine_status_{tid}\").is_in(status_codes) | pl.col(f\"turbine_status_{tid}\").is_null()\n",
    "def compute_wind_js_scores(df, threshold, mask, cols):\n",
    "    for col in cols:\n",
    "        tid = col.split(\"_\")[-1]\n",
    "        js_score = compute_js_divergence(\n",
    "            train_sample=df.filter(mask(tid)).select(col).drop_nulls().collect(streaming=True).to_numpy().flatten(),\n",
    "            test_sample=df.select(col).drop_nulls().collect(streaming=True).to_numpy().flatten()\n",
    "            )\n",
    "        \n",
    "        if js_score > threshold:\n",
    "            df = df.with_columns(pl.when(mask(tid)).then(col).alias(col))\n",
    "\n",
    "        print(f\"JS Score for feature {col} = {js_score}\")\n",
    "\n",
    "compute_wind_js_scores(df_query, threshold, mask, ws_cols + wd_cols)\n",
    "    \n",
    "    "
   ]
  },
  {
   "cell_type": "markdown",
   "metadata": {},
   "source": [
    "### Unpivot LazyFrame into Long Form with `turbine_id` Column"
   ]
  },
  {
   "cell_type": "code",
   "execution_count": 20,
   "metadata": {},
   "outputs": [],
   "source": [
    "# unpivot into long form\n",
    "if False:\n",
    "    df_query = pl.concat([\n",
    "        df_query.select(pl.col(\"time\"), cs.starts_with(feature_type))\\\n",
    "        .filter(pl.any_horizontal(pl.all().is_null()))\\\n",
    "        .unpivot(index=\"time\", value_name=feature_type)\\\n",
    "        .with_columns(pl.col(\"variable\").str.slice(-5).alias(\"turbine_id\"))\\\n",
    "        .drop(\"variable\") for feature_type in [\"wind_speed\", \"wind_direction\", \"turbine_status\", \"power_output\"]], how=\"diagonal\")\\\n",
    "            .group_by(\"time\", \"turbine_id\").agg(cs.numeric().drop_nulls().first()).sort(\"turbine_id\", \"time\")"
   ]
  },
  {
   "cell_type": "markdown",
   "metadata": {},
   "source": [
    "### Wind Speed Range Filter"
   ]
  },
  {
   "cell_type": "code",
   "execution_count": null,
   "metadata": {},
   "outputs": [],
   "source": [
    "# TODO check if wind speed/dir measurements from inoperational turbines differ from fully operational \n",
    "# check for wind speed values that are outside of the acceptable range\n",
    "ws = collect_data(df=df_query, feature_types=\"wind_speed\")[\"wind_speed\"]\n",
    "out_of_range = (filters.range_flag(ws, lower=0, upper=70)  & ~ws.isna()).values # TODO does range flag include null/nan values?\n",
    "del ws\n",
    "qa.describe(collect_data(df=df_query, feature_types=\"wind_speed\", mask=np.any(out_of_range, axis=1)))\n",
    "\n",
    "fig, ax = plt.subplots(1, 1)\n",
    "ax.scatter(x=df_query.select(ws_cols[0]).filter(~out_of_range[:, 0]).collect(streaming=True).to_numpy(), \n",
    "y=df_query.select(wd_cols[0]).filter(~out_of_range[:, 0]).collect(streaming=True).to_numpy(), color=\"red\", label=\"in_range measurements\")\n",
    "ax.scatter(x=df_query.select(ws_cols[0]).filter(out_of_range[:, 0]).collect(streaming=True).to_numpy(), \n",
    "y=df_query.select(wd_cols[0]).filter(out_of_range[:, 0]).collect(streaming=True).to_numpy(), color=\"blue\", label=\"out_of_range measurements\")\n",
    "ax.legend()\n",
    "\n",
    "for t_idx, col in enumerate(ws_cols):\n",
    "    turbine_id = col.split(\"_\")[-1]\n",
    "    pc_frozen_vals = 100 * (collect_data(df=df_query, feature_types=\"wind_speed\", turbine_ids=[turbine_id], mask=out_of_range[:, t_idx]).shape[0] \n",
    "    / collect_data(df=df_query, feature_types=\"wind_speed\", turbine_ids=[turbine_id], mask=pl.all().is_not_null()).shape[0])\n",
    "    print(f\"Feature wind_speed for turbine {tid} has {pc_frozen_vals} % out of range values.\")"
   ]
  },
  {
   "cell_type": "code",
   "execution_count": 30,
   "metadata": {},
   "outputs": [],
   "source": [
    "# TODO fill out_of_range measurements with Null st they are marked for interpolation via impute or linear/forward fill interpolation later\n",
    "# df_query = df_query.with_columns(pl.when(out_of_range).)\n",
    "df_query = df_query.with_columns(\n",
    "                [pl.when(~out_of_range[:, t_idx]).then(pl.col(col)).otherwise(np.nan).alias(col)\n",
    "                for t_idx, col in enumerate(ws_cols)]\n",
    "                )"
   ]
  },
  {
   "cell_type": "code",
   "execution_count": 31,
   "metadata": {},
   "outputs": [],
   "source": [
    "del out_of_range"
   ]
  },
  {
   "cell_type": "markdown",
   "metadata": {},
   "source": [
    "### Power Curve Window Range Filter"
   ]
  },
  {
   "cell_type": "code",
   "execution_count": null,
   "metadata": {},
   "outputs": [],
   "source": [
    "# wind speed measurements will be impacted, unsure how much, \n",
    "# TODO check if wind speed/dir measurements from inoperational turbines differ from fully operational\n",
    "# identifies when turbine is shut down, filtering for normal turbine operation\n",
    "# apply a window range filter to remove data with power values outside of the window from 20 to 3000 kW for wind speeds between 5 and 40 m/s.\n",
    "\n",
    "out_of_window = filters.window_range_flag(window_col=collect_data(df=df_query, feature_types=\"wind_speed\")[\"wind_speed\"],\n",
    "                                            window_start=5., window_end=40., \n",
    "                                            value_col=collect_data(df=df_query, feature_types=\"power_output\")[\"power_output\"],\n",
    "                                            value_min=20., value_max=3000.).values\n",
    "\n",
    "for feature_type, feature_cols in zip([\"wind_speed\", \"power_output\"], [ws_cols, wd_cols, pwr_cols]):\n",
    "   for t_idx, col in enumerate(feature_cols):\n",
    "        turbine_id = col.split(\"_\")[-1]\n",
    "        pc_frozen_vals = 100 * (collect_data(df=df_query, feature_types=feature_type, turbine_ids=[turbine_id], mask=out_of_window[:, t_idx]).shape[0] \n",
    "      / collect_data(df=df_query, feature_types=feature_type, turbine_ids=[turbine_id], mask=pl.all().is_not_null()).shape[0])\n",
    "      print(f\"Feature {feature_type} for turbine {tid} has {pc_frozen_vals} % out of power curve window range values.\")\n",
    "      qa.describe(collect_data(df=df_query, feature_types=feature_type, turbine_ids=[turbine_id], mask=out_of_window[:, t_idx]))"
   ]
  },
  {
   "cell_type": "code",
   "execution_count": 33,
   "metadata": {},
   "outputs": [],
   "source": [
    "if PLOT:\n",
    "    # plot values that are outside of power-wind speed range\n",
    "    plot.plot_power_curve(\n",
    "        collect_data(df=df_query, feature_types=\"wind_speed\"),\n",
    "        collect_data(df=df_query, feature_types=\"power_output\"),\n",
    "        flag=out_of_window,\n",
    "        flag_labels=(\"Outside Acceptable Window\", \"Acceptable Power Curve Points\"),\n",
    "        xlim=(-1, 15),\n",
    "        ylim=(-100, 3000),\n",
    "        legend=True,\n",
    "        scatter_kwargs=dict(alpha=0.4, s=10)\n",
    "    )"
   ]
  },
  {
   "cell_type": "code",
   "execution_count": 34,
   "metadata": {},
   "outputs": [],
   "source": [
    "# TODO fill out_of_range measurements with Null st they are marked for interpolation via impute or linear/forward fill interpolation later\n",
    "# fill cells corresponding to values that are outside of power-wind speed window range\n",
    "df_query = df_query.filter(~out_of_window)"
   ]
  },
  {
   "cell_type": "code",
   "execution_count": 35,
   "metadata": {},
   "outputs": [],
   "source": [
    "del out_of_window"
   ]
  },
  {
   "cell_type": "code",
   "execution_count": null,
   "metadata": {},
   "outputs": [],
   "source": [
    "#print(df_query.collect(streaming=True).shape)"
   ]
  },
  {
   "cell_type": "markdown",
   "metadata": {},
   "source": [
    "### Power Curve Bin Filter"
   ]
  },
  {
   "cell_type": "code",
   "execution_count": null,
   "metadata": {},
   "outputs": [],
   "source": [
    "# apply a bin filter to remove data with power values outside of an envelope around median power curve at each wind speed\n",
    "max_bin = 0.90 * df_query.select(\"power_output\").max().collect(streaming=True).item()\n",
    "bin_outliers = filters.bin_filter(bin_col=collect_data(df=df_query, feature_types=\"power_output\")[\"power_output\"], \n",
    "                                  value_col=collect_data(df=df_query, feature_types=\"wind_speed\")[\"wind_speed\"], \n",
    "                                  bin_width=50, threshold=3,\n",
    "                                  center_type=\"median\", \n",
    "                                  bin_min=20., bin_max=max_bin,\n",
    "                                  threshold_type=\"scalar\", direction=\"below\",\n",
    "                                  ).to_numpy()\n",
    "qa.describe(collect_data(df=df_query, feature_types=[\"wind_speed\", \"power_output\"], mask=bin_outliers))"
   ]
  },
  {
   "cell_type": "code",
   "execution_count": null,
   "metadata": {},
   "outputs": [],
   "source": [
    "if PLOT:\n",
    "    # plot values outside the power-wind speed bin filter\n",
    "    plot.plot_power_curve(\n",
    "        collect_data(df=df_query, feature_types=\"wind_speed\"),\n",
    "        collect_data(df=df_query, feature_types=\"power_output\"),\n",
    "        flag=bin_outliers,\n",
    "        flag_labels=(\"Anomylous Data\", \"Normal Wind Speed Sensor Operation\"),\n",
    "        xlim=(-1, 15),\n",
    "        ylim=(-100, 3000),\n",
    "        legend=True,\n",
    "        scatter_kwargs=dict(alpha=0.4, s=10)\n",
    "    )"
   ]
  },
  {
   "cell_type": "code",
   "execution_count": 41,
   "metadata": {},
   "outputs": [],
   "source": [
    "# remove rows corresponding to values that are outside of power-wind speed bins \n",
    "df_query = df_query.filter(~bin_outliers)"
   ]
  },
  {
   "cell_type": "markdown",
   "metadata": {},
   "source": [
    "### Power Curve Fitting"
   ]
  },
  {
   "cell_type": "code",
   "execution_count": 42,
   "metadata": {},
   "outputs": [],
   "source": [
    "# Fit the power curves\n",
    "iec_curve = power_curve.IEC(collect_data(df=df_query, feature_types=\"wind_speed\")[\"wind_speed\"], \n",
    "collect_data(df=df_query, feature_types=\"power_output\")[\"power_output\"])\n",
    "l5p_curve = power_curve.logistic_5_parametric(collect_data(df=df_query, feature_types=\"wind_speed\")[\"wind_speed\"], \n",
    "collect_data(df=df_query, feature_types=\"power_output\")[\"power_output\"])\n",
    "spline_curve = power_curve.gam(collect_data(df=df_query, feature_types=\"wind_speed\")[\"wind_speed\"], \n",
    "collect_data(df=df_query, feature_types=\"power_output\")[\"power_output\"], n_splines=20)"
   ]
  },
  {
   "cell_type": "code",
   "execution_count": null,
   "metadata": {},
   "outputs": [],
   "source": [
    "if PLOT:\n",
    "    fig, ax = plot.plot_power_curve(\n",
    "        collect_data(df=df_query, feature_types=\"wind_speed\"),\n",
    "        collect_data(df=df_query, feature_types=\"power_output\"),\n",
    "        flag=np.zeros(collect_data(df=df_query, features=\"wind_speed\").shape, dtype=bool),\n",
    "        flag_labels=(\"\", \"Filtered Power Curve\"),\n",
    "        xlim=(-1, 15),  # optional input for refining plots\n",
    "        ylim=(-100, 3000),  # optional input for refining plots\n",
    "        legend=False,  # optional flag for adding a legend\n",
    "        scatter_kwargs=dict(alpha=0.4, s=10),  # optional input for refining plots\n",
    "        return_fig=True,\n",
    "    )\n",
    "\n",
    "    x = np.linspace(0, 20, 100)\n",
    "    ax.plot(x, iec_curve(x), color=\"red\", label = \"IEC\", linewidth = 3)\n",
    "    ax.plot(x, spline_curve(x), color=\"C1\", label = \"Spline\", linewidth = 3)\n",
    "    ax.plot(x, l5p_curve(x), color=\"C2\", label = \"L5P\", linewidth = 3)\n",
    "\n",
    "    ax.legend()\n",
    "\n",
    "    fig.tight_layout()\n",
    "    plt.show()"
   ]
  },
  {
   "cell_type": "markdown",
   "metadata": {},
   "source": [
    "### Unresponsive Sensor Filter"
   ]
  },
  {
   "cell_type": "code",
   "execution_count": null,
   "metadata": {},
   "outputs": [],
   "source": [
    "# TODO experiment w/ 10min threshold\n",
    "# find stuck sensor measurements for each turbine\n",
    "ws_frozen_sensor = filters.unresponsive_flag(data=collect_data(df=df_query, feature_types=\"wind_speed\"), threshold=3).values\n",
    "wd_frozen_sensor = filters.unresponsive_flag(data=collect_data(df=df_query, feature_types=\"wind_direction\"), threshold=3).values\n",
    "pwr_frozen_sensor = filters.unresponsive_flag(data=collect_data(df=df_query, feature_types=\"power_output\"), threshold=3).values\n",
    "\n",
    "# qa.describe(pl.concat([collect_data(df=df_query, feature_types=feature_type, mask=mask, to_pandas=False)\n",
    "#                         for mask, feature_type in zip([ws_frozen_sensor, wd_frozen_sensor, pwr_frozen_sensor], [\"wind_speed\", \"wind_direction\", \"power_output\"])], \n",
    "#                             how=\"horizontal\")\\\n",
    "#                                .to_pandas())\n",
    "\n",
    "# for (mask, feature_type) in zip([ws_frozen_sensor, wd_frozen_sensor, pwr_frozen_sensor], \n",
    "# [\"wind_speed\", \"wind_direction\", \"power_output\"]):\n",
    "#    for i, tid in enumerate(available_turbines):\n",
    "#       pc_frozen_vals = 100 * (collect_data(df=df_query, feature_types=feature_type, turbine_ids=[tid], mask=mask).sum() \n",
    "#       / collect_data(df=df_query, feature_types=feature_type, turbine_ids=[tid], mask=pl.col(feature_type).is_not_null()).shape[0])\n",
    "#       print(f\"Feature {feature_type} for turbine {tid} has {pc_frozen_vals} % frozen sensor values.\")\n",
    "\n",
    "# from itertools import product\n",
    "# for (i, tid), (mask, feature_type) in product(enumerate(available_turbines), \n",
    "#                 zip([ws_frozen_sensor, wd_frozen_sensor, pwr_frozen_sensor], [\"wind_speed\", \"wind_direction\", \"power_output\"])):\n",
    "\n",
    "for feature_type, feature_cols, feature_mask in zip([\"wind_speed\", \"wind_direction\", \"power_output\"], [ws_cols, wd_cols, pwr_cols], [ws_frozen_sensor, wd_frozen_sensor, pwr_frozen_sensor]):\n",
    "   for t_idx, col in enumerate(feature_cols):\n",
    "      turbine_id = col.split(\"_\")[-1]\n",
    "      pc_frozen_vals = 100 * (collect_data(df=df_query, feature_types=feature_type, turbine_ids=[turbine_id], mask=feature_mask[:, t_idx]).shape[0] \n",
    "      / collect_data(df=df_query, feature_types=feature_type, turbine_ids=[turbine_id], mask=pl.all().is_not_null()).shape[0])\n",
    "      print(f\"Feature {feature_type} for turbine {tid} has {pc_frozen_vals} % frozen sensor values.\")\n"
   ]
  },
  {
   "cell_type": "code",
   "execution_count": null,
   "metadata": {},
   "outputs": [],
   "source": [
    "if PLOT:\n",
    "    plot.plot_power_curve(\n",
    "        collect_data(df=df_query, feature_types=\"wind_speed\"),\n",
    "        collect_data(df=df_query, feature_types=\"power_output\"),\n",
    "        flag=ws_frozen_sensor,\n",
    "        flag_labels=(f\"Wind Speed Unresponsive Sensors (n={ws_frozen_sensor.sum():,.0f})\", \"Normal Turbine Operations\"),\n",
    "        xlim=(-1, 15),  # optional input for refining plots\n",
    "        ylim=(-100, 3000),  # optional input for refining plots\n",
    "        legend=True,  # optional flag for adding a legend\n",
    "        scatter_kwargs=dict(alpha=0.4, s=10)  # optional input for refining plots\n",
    "    )\n",
    "\n",
    "    plot.plot_power_curve(\n",
    "        collect_data(df=df_query, feature_types=\"wind_speed\"),\n",
    "        collect_data(df=df_query, feature_types=\"power_output\"),\n",
    "        flag=wd_frozen_sensor,\n",
    "        flag_labels=(f\"Wind Direction Unresponsive Sensors (n={wd_frozen_sensor.sum():,.0f})\", \"Normal Turbine Operations\"),\n",
    "    xlim=(-1, 15),  # optional input for refining plots\n",
    "    ylim=(-100, 3000),  # optional input for refining plots\n",
    "    legend=True,  # optional flag for adding a legend\n",
    "    scatter_kwargs=dict(alpha=0.4, s=10)  # optional input for refining plots\n",
    "    )\n",
    "\n",
    "    plot.plot_power_curve(\n",
    "    collect_data(df=df_query, feature_types=\"wind_speed\"),\n",
    "        collect_data(df=df_query, feature_types=\"power_output\"),\n",
    "        flag=pwr_frozen_sensor,\n",
    "        flag_labels=(f\"Power Output Unresponsive Sensors (n={pwr_frozen_sensor.sum():,.0f})\", \"Normal Turbine Operations\"),\n",
    "        xlim=(-1, 15),  # optional input for refining plots\n",
    "        ylim=(-100, 3000),  # optional input for refining plots\n",
    "        legend=True,  # optional flag for adding a legend\n",
    "        scatter_kwargs=dict(alpha=0.4, s=10)  # optional input for refining plots\n",
    "    )"
   ]
  },
  {
   "cell_type": "code",
   "execution_count": null,
   "metadata": {},
   "outputs": [],
   "source": [
    "# change the values corresponding to frozen sensor measurements to null or interpolate (instead of dropping full row, since other sensors could be functioning properly)\n",
    "# TODO fill stuck sensor measurements with NaN (not None/null), st they are marked for interpolation later,\n",
    "df_query = df_query.with_columns(\n",
    "                [pl.when(~mask[:, t_idx]).then(pl.col(col)).otherwise(np.nan).alias(col)\n",
    "                for feature_type, feature_cols, feature_mask in zip(\n",
    "                    [\"wind_speed\", \"wind_direction\", \"power_output\"], \n",
    "                    [ws_cols, wd_cols, pwr_cols], \n",
    "                    [ws_frozen_sensor, wd_frozen_sensor, pwr_frozen_sensor])\n",
    "                for t_idx, col in enumerate(feature_cols)]\n",
    "                )\n",
    "# df_query = df_query.with_columns([pl.when(~mask).then(pl.col(feature_type)).alias(feature_type)\n",
    "#                  for (mask, feature_type) in \n",
    "#                  zip([ws_frozen_sensor, wd_frozen_sensor, pwr_frozen_sensor], \n",
    "#                  [\"wind_speed\", \"wind_direction\", \"power_output\"])])"
   ]
  },
  {
   "cell_type": "code",
   "execution_count": null,
   "metadata": {},
   "outputs": [],
   "source": [
    "del ws_frozen_sensor\n",
    "del wd_frozen_sensor\n",
    "del pwr_frozen_sensor"
   ]
  },
  {
   "cell_type": "markdown",
   "metadata": {},
   "source": [
    "### Assess and Interpolate or Split Missing Data"
   ]
  },
  {
   "cell_type": "code",
   "execution_count": null,
   "metadata": {},
   "outputs": [],
   "source": [
    "# plot time steps and turbines with missing data for wind_speed and wind_direction\n",
    "df = pl.concat([\n",
    "    df_query.select(pl.col(\"time\"), cs.starts_with(feature_type))\\\n",
    "    .filter(pl.any_horizontal(pl.all().is_null()))\\\n",
    "    .unpivot(index=\"time\", value_name=feature_type)\\\n",
    "    .with_columns(pl.col(\"variable\").str.slice(-5).alias(\"turbine_id\"))\\\n",
    "    .drop(\"variable\") for feature_type in [\"wind_direction\", \"wind_speed\"] ], how=\"diagonal\")\n",
    "\n",
    "df.filter(pl.col(\"wind_speed\").is_null() | pl.col(\"wind_direction\").is_null())\\\n",
    "  .select(\"time\", \"turbine_id\", \"wind_speed\", \"wind_direction\")\\\n",
    "  .with_columns(pl.when(pl.col(\"wind_speed\").is_null()).then(pl.lit(\"ws\")).otherwise(pl.lit(\"wd\")).alias(\"null_feature\"))\\\n",
    "    .drop(\"wind_speed\", \"wind_direction\")\\\n",
    "    .collect(streaming=True)\\\n",
    "        .to_pandas().groupby(\"turbine_id\")[\"null_feature\"].value_counts(normalize=True).unstack(fill_value=0)\n",
    "  \n",
    "# df.filter(pl.col(\"wind_direction\").is_null()).select(\"time\", \"wind_direction\")\n",
    "# print(df.select(\"time\").to_numpy()) \n",
    "# print(df.filter(pl.col(\"wind_speed\").is_null()).select(\"turbine_id\").to_numpy())\n",
    "# import seaborn as sns\n",
    "# fig, ax = plt.subplots(1, 1)\n",
    "# sns.scatterplot(ax=ax, data=df, x=\"time\", y=\"turbine_id\", hue=\"null feature\")\n",
    "# # sns.scatterplot(x=df.filter(pl.col(\"wind_speed\").is_null()).select(\"time\").to_numpy().flatten(), y=df.filter(pl.col(\"wind_speed\").is_null()).select(\"turbine_id\").to_numpy().flatten())\n",
    "# ax.legend()\n"
   ]
  },
  {
   "cell_type": "code",
   "execution_count": 22,
   "metadata": {},
   "outputs": [],
   "source": [
    "imputing.impute_all_assets_by_correlation\n",
    "df_query = data_filter.resolve_missing_data(df_query, features=[\"wind_speed\", \"wind_direction\", \"power_output\"], how=\"forward_fill\")"
   ]
  },
  {
   "cell_type": "code",
   "execution_count": null,
   "metadata": {},
   "outputs": [],
   "source": [
    "# df_query = df_query.pivot(on=\"turbine_id\", index=\"time\", values=[\"power_output\", \"nacelle_direction\", \"wind_speed\", \"wind_direction\", \"turbine_status\"]).lazy()"
   ]
  },
  {
   "cell_type": "markdown",
   "metadata": {},
   "source": [
    "## Nacelle Calibration"
   ]
  },
  {
   "cell_type": "markdown",
   "metadata": {},
   "source": [
    "### Find and correct wind direction offsets from median wind plant wind direction for each turbine"
   ]
  },
  {
   "cell_type": "code",
   "execution_count": null,
   "metadata": {},
   "outputs": [],
   "source": [
    "turbine_ids = df_query.select(\"turbine_id\").unique().collect(streaming=True).to_numpy()[:, 0]\n",
    "\n",
    "# add the 3 degrees back to the wind direction signal\n",
    "offset = 3.0\n",
    "df_query2 = df_query.with_columns((pl.col(\"wind_direction\") + 3.0 % 360.0).alias(\"wind_direction\"))\n",
    "\n",
    "# TODO make sure that all power values are >= 0 at this point\n",
    "wd_median = collect_data(df_query2, [\"time\", \"turbine_id\", \"wind_direction\"]).groupby(\"time\")[\"wind_direction\"].median()\n",
    "wd_median = np.degrees(np.arctan2(np.sin(np.radians(wd_median)), np.cos(np.radians(wd_median))))\n",
    "wd_median = pd.concat([\n",
    "    collect_data(df_query2, [\"time\", \"turbine_id\", \"wind_direction\", \"power_output\"])\\\n",
    "    .pivot(index=\"time\", columns=\"turbine_id\", values=\"power_output\")\\\n",
    "        .rename(columns={old_col: f\"power_output_{old_col}\" for old_col in turbine_ids}), \n",
    "    wd_median], axis=1)\n",
    "\n",
    "yaw_median = collect_data(df_query2, [\"time\", \"turbine_id\", \"nacelle_direction\"]).groupby(\"time\")[\"nacelle_direction\"].median()\n",
    "yaw_median = np.degrees(np.arctan2(np.sin(np.radians(yaw_median)), np.cos(np.radians(yaw_median))))\n",
    "yaw_median = pd.concat([\n",
    "    collect_data(df_query2, [\"time\", \"turbine_id\", \"wind_direction\", \"power_output\"])\\\n",
    "    .pivot(index=\"time\", columns=\"turbine_id\", values=\"power_output\")\\\n",
    "        .rename(columns={old_col: f\"power_output_{old_col}\" for old_col in turbine_ids}), \n",
    "    yaw_median], axis=1)\n",
    "\n",
    "fig, ax = plt.subplots(1, 1)\n",
    "for turbine_id in turbine_ids:\n",
    "    df = collect_data(df=df_query2, \n",
    "                        features=[\"time\", \"turbine_id\", \"wind_direction\", \"power_output\"], \n",
    "                        mask=((pl.col(\"turbine_id\") == turbine_id) & (pl.col(\"power_output\") >= 0)))\n",
    "                        \n",
    "    ax.plot(df[\"time\"], DataFilter.wrap_180(\n",
    "                        df.pivot(index=\"time\", columns=\"turbine_id\", values=\"wind_direction\").values \n",
    "                        - wd_median.loc[(wd_median[f\"power_output_{turbine_id}\"] >= 0), \"wind_direction\"].values[:, np.newaxis]),\n",
    "                        label=f\"{turbine_id}\")\n",
    "\n",
    "ax.legend()\n",
    "ax.set_xlabel(\"Time (s)\")\n",
    "ax.set_ylabel(\"Wind Direction - Median Wind Direction (deg)\")\n",
    "\n",
    "ax.set_title(\"Original\")"
   ]
  },
  {
   "cell_type": "code",
   "execution_count": null,
   "metadata": {},
   "outputs": [],
   "source": [
    "#df_query2.select([\"time\", \"turbine_id\", \"wind_direction\", \"power_output\", \"nacelle_direction\"]).filter(((pl.col(\"turbine_id\") == turbine_id) & (pl.col(\"power_output\") >= 0))).collect(streaming=True)\n",
    "# collect_data(df=df_query2, \n",
    "#                         features=[\"time\", \"turbine_id\", \"wind_direction\", \"power_output\", \"nacelle_direction\"], \n",
    "#                         mask=((pl.col(\"turbine_id\") == turbine_id) & (pl.col(\"power_output\") >= 0)))"
   ]
  },
  {
   "cell_type": "code",
   "execution_count": null,
   "metadata": {},
   "outputs": [],
   "source": [
    "df_offsets = {\"turbine_id\": [], \"northing_bias\": []}\n",
    "\n",
    "# remove biases from median direction\n",
    "for turbine_id in turbine_ids:\n",
    "    df = collect_data(df=df_query2, \n",
    "                        features=[\"time\", \"turbine_id\", \"wind_direction\", \"power_output\", \"nacelle_direction\"], \n",
    "                        mask=((pl.col(\"turbine_id\") == turbine_id) & (pl.col(\"power_output\") >= 0)))\n",
    "\n",
    "    if (turbine_id == f\"wt_001\"):\n",
    "        wd_bias = DataFilter.wrap_180(DataFilter.circ_mean(df.loc[(df['time'] >= \"2021-08-03 19:20\"), \"wind_direction\"] \n",
    "            - wd_median.loc[(df['time'] >= \"2021-08-03 19:20\") & (wd_median[f'power_output_{turbine_id}'] >= 0)]))\n",
    "        yaw_bias = DataFilter.wrap_180(DataFilter.circ_mean(df.loc[(df['time'] >= \"2021-08-03 19:20\"), \"nacelle_direction\"] \n",
    "        - yaw_median.loc[(df['time'] >= \"2021-08-03 19:20\") & (yaw_median[f'power_output{turbine_id}' % i] >= 0)]))\n",
    "    else:\n",
    "        wd_bias = DataFilter.wrap_180(DataFilter.circ_mean(df[\"wind_direction\"] - wd_median.loc[wd_median[f\"power_output_{turbine_id}\"] >= 0, \"wind_direction\"]))\n",
    "        yaw_bias = DataFilter.wrap_180(DataFilter.circ_mean(df[\"nacelle_direction\"] - yaw_median.loc[yaw_median[f\"power_output_{turbine_id}\"] >= 0, \"nacelle_direction\"]))\n",
    "\n",
    "    df_offsets[\"turbine_id\"].append(turbine_id)\n",
    "    df_offsets[\"northing_bias\"].append(np.round(0.5 * (wd_bias + yaw_bias), 2))\n",
    "        \n",
    "    if (turbine_id != f\"wt_040\"):\n",
    "        df.loc[df[\"turbine_id\"] == turbine_id, \"wind_direction\"] = (df.loc[df[\"turbine_id\"] == turbine_id, \"wind_direction\"] - 0.5 * (wd_bias + yaw_bias)) % 360\n",
    "        df.loc[df[\"turbine_id\"] == turbine_id, \"nacelle_direction\"] = (df.loc[df[\"turbine_id\"] == turbine_id, \"nacelle_direction\"] - 0.5 * (wd_bias + yaw_bias)) % 360\n",
    "        print(f\"Turbine {turbine_id} bias from median wind direction: {np.round(0.5 * (wd_bias + yaw_bias), 2)} deg.\")\n",
    "\n",
    "df_offsets = pd.DataFrame(df_offsets)\n",
    "# handle special case of turbine 39 with a couple change points\n",
    "\"\"\"\n",
    "tid = \"wd_040\"\n",
    "df = collect_data(df=df_query2, \n",
    "                        features=[\"time\", \"turbine_id\", \"wind_direction\", \"power_output\", \"nacelle_direction\"], \n",
    "                        mask=((pl.col(\"turbine_id\") == tid) & (pl.col(\"power_output\") >= 0)))\n",
    "wd_bias_1 = DataFilter.wrap_180(DataFilter.circ_mean(df.loc[\n",
    "    (df['time'] <= \"2021-06-09 19:30\"), \"wind_direction\"].values \\\n",
    "        - wd_median.loc[\n",
    "            (wd_median['time'] <= \"2021-06-09 19:30\") \n",
    "        & (wd_median[f\"power_output_{tid}\"] >= 0), \"wind_direction\"].values))\n",
    "\n",
    "wd_bias_2 = DataFilter.wrap_180(DataFilter.circ_mean(df.loc[\n",
    "    (df['time'] >= \"2021-06-09 19:40\")\n",
    "    & (df['time'] <= \"2021-09-14 19:50\"), \"wind_direction\"].values \\\n",
    "        - wd_median.loc[\n",
    "            (wd_median['time'] >= \"2021-06-09 19:30\")\n",
    "            & (wd_median['time'] <= \"2021-09-14 19:50\")   \n",
    "        & (wd_median[f\"power_output_{tid}\"] >= 0), \"wind_direction\"].values))\n",
    "\n",
    "wd_bias_3 = DataFilter.wrap_180(DataFilter.circ_mean(df.loc[\n",
    "    (df['time'] >= \"2021-09-14 20:00\"), \"wind_direction\"].values \\\n",
    "        - wd_median.loc[\n",
    "            (wd_median['time'] >= \"2021-09-14 20:00\")\n",
    "        & (wd_median[f\"power_output_{tid}\"] >= 0), \"wind_direction\"].values))\n",
    "\n",
    "yaw_bias_1 = DataFilter.wrap_180(DataFilter.circ_mean(df.loc[\n",
    "    (df['time'] <= \"2021-06-09 19:30\"), \"nacelle_direction\"].values \\\n",
    "        - yaw_median.loc[\n",
    "            (yaw_median['time'] <= \"2021-06-09 19:30\") \n",
    "        & (yaw_median[f\"power_output_{tid}\"] >= 0), \"wind_direction\"].values))\n",
    "\n",
    "yaw_bias_2 = DataFilter.wrap_180(DataFilter.circ_mean(df.loc[\n",
    "    (df['time'] >= \"2021-06-09 19:40\")\n",
    "    & (df['time'] <= \"2021-09-14 19:50\"), \"nacelle_direction\"].values \\\n",
    "        - yaw_median.loc[\n",
    "            (yaw_median['time'] >= \"2021-06-09 19:30\")\n",
    "            & (yaw_median['time'] <= \"2021-09-14 19:50\")   \n",
    "        & (yaw_median[f\"power_output_{tid}\"] >= 0), \"wind_direction\"].values))\n",
    "\n",
    "yaw_bias_3 = DataFilter.wrap_180(DataFilter.circ_mean(df.loc[\n",
    "    (df['time'] >= \"2021-09-14 20:00\"), \"nacelle_direction\"].values \\\n",
    "        - yaw_median.loc[\n",
    "            (yaw_median['time'] >= \"2021-09-14 20:00\")\n",
    "        & (yaw_median[f\"power_output_{tid}\"] >= 0), \"wind_direction\"].values))\n",
    "\n",
    "cond = (df['time'] <= \"2021-06-09 19:30\")\n",
    "df.loc[cond, \"wind_direction\"] = (df.loc[cond, \"wind_direction\"] - 0.5 * (wd_bias_1 + yaw_bias_1)) % 360\n",
    "df.loc[cond, \"nacelle_direction\"] = (df[cond, \"nacelle_direction\"] - 0.5 * (wd_bias_1 + yaw_bias_1)) % 360\n",
    "\n",
    "cond = (df['time'] >= \"2021-06-09 19:40\") & (df['time'] <= \"2021-09-14 19:50\")\n",
    "df.loc[cond, \"wind_direction\"] = (df.loc[cond, \"wind_direction\"] - 0.5 * (wd_bias_2 + yaw_bias_2)) % 360\n",
    "df.loc[cond, \"nacelle_direction\"] = (df.loc[cond, \"nacelle_direction\"] - 0.5 * (wd_bias_2 + yaw_bias_2)) % 360\n",
    "\n",
    "cond = (df['time'] >= \"2021-09-14 20:00\")\n",
    "df.loc[cond, \"wind_direction\"] = (df.loc[cond, \"wind_direction\"] - 0.5 * (wd_bias_3 + yaw_bias_3)) % 360\n",
    "df.loc[cond, \"nacelle_direction\"] = (df.loc[cond, \"nacelle_direction\"] - 0.5 * (wd_bias_3 + yaw_bias_3)) % 360\n",
    "\n",
    "print(\"Biases from median wind direction for turbine 39:\")\n",
    "\n",
    "print(f\"wd_bias_1: {wd_bias_1}\")\n",
    "print(f\"wd_bias_2: {wd_bias_2}\")\n",
    "print(f\"wd_bias_3: {wd_bias_3}\")\n",
    "\n",
    "print(f\"yaw_bias_1: {yaw_bias_1}\")\n",
    "print(f\"yaw_bias_2: {yaw_bias_2}\")\n",
    "print(f\"yaw_bias_3: {yaw_bias_3}\")\n",
    "\n",
    "plt.figure()\n",
    "for turbine_id in turbine_ids:\n",
    "    plt.plot(df[\"time\"], \n",
    "    DataFilter.wrap_180(df[\"wind_direction\"].values - wd_median.loc[wd_median[f\"power_output_{turbine_id}\"] >= 0, \"wind_direction\"].values))\n",
    "\n",
    "plt.xlabel(\"Time (s)\")\n",
    "plt.ylabel(\"Wind Direction - Median Wind Direction (deg)\")\n",
    "plt.title(\"Corrected\")\n",
    "\n",
    "# specific time of changepoints for turbine 39: 6/9 19:35:55; 9/14 19:55:02\n",
    "\"\"\"\n",
    "# make sure we have corrected the bias between wind direction and yaw position by adding 3 deg. to the wind direction\n",
    "bias = 0\n",
    "for turbine_id in turbine_ids:\n",
    "    df = collect_data(df=df_query2, \n",
    "                        features=[\"time\", \"turbine_id\", \"wind_direction\", \"power_output\", \"nacelle_direction\"], \n",
    "                        mask=((pl.col(\"turbine_id\") == turbine_id) & (pl.col(\"power_output\") >= 0)))[[\"wind_direction\", \"nacelle_direction\"]]\n",
    "    bias += DataFilter.wrap_180(DataFilter.circ_mean(df[\"wind_direction\"] - df[\"nacelle_direction\"]))\n",
    "    \n",
    "print(f\"Average Bias = {bias / len(turbine_ids)}\")"
   ]
  },
  {
   "cell_type": "markdown",
   "metadata": {},
   "source": [
    "### Find offset to true North using wake loss profiles"
   ]
  },
  {
   "cell_type": "code",
   "execution_count": 162,
   "metadata": {},
   "outputs": [],
   "source": [
    "# TODO Optimization function for finding waked direction\n",
    "def gauss_corr(gauss_params, power_ratio):\n",
    "    xs = np.array(range(-int((len(power_ratio) - 1) / 2), int((len(power_ratio) + 1) / 2), 1))\n",
    "    gauss = -1 * gauss_params[2] * np.exp(-0.5 * ((xs-gauss_params[0]) / gauss_params[1])**2) + 1.\n",
    "    return -1 * np.corrcoef(gauss, power_ratio)[0, 1]"
   ]
  },
  {
   "cell_type": "code",
   "execution_count": null,
   "metadata": {},
   "outputs": [],
   "source": [
    "# TODO Find offsets between direction of alignment between pairs of turbines \n",
    "# and direction of peak wake losses. Use the average offset found this way \n",
    "# to identify the Northing correction that should be applied to all turbines \n",
    "# in the wind farm.\n",
    "from scipy.stats import norm\n",
    "from scipy.optimize import minimize\n",
    "\n",
    "from floris import FlorisModel\n",
    "fi = FlorisModel(data_inspector.farm_input_filepath)\n",
    "\n",
    "p_min = 100\n",
    "p_max = 2500\n",
    "\n",
    "prat_hfwdth = 30\n",
    "\n",
    "prat_turbine_pairs = [(61,60), (51,50), (43,42), (41,40), (18,19), (34,33), (17,16), (21,22), (87,86), (62,63), (32,33), (59,60), (42,43)]\n",
    "\n",
    "dir_offsets = []\n",
    "\n",
    "for i in range(len(prat_turbine_pairs)):\n",
    "    i_up = prat_turbine_pairs[i][0]\n",
    "    i_down = prat_turbine_pairs[i][1]\n",
    "\n",
    "    dir_align = np.degrees(np.arctan2(fi.layout_x[i_up] - fi.layout_x[i_down], fi.layout_y[i_up] - fi.layout_y[i_down])) % 360\n",
    "\n",
    "    # df_sub = df_10min.loc[(df_10min['pow_%03d' % i_up] >= p_min) & (df_10min['pow_%03d' % i_up] <= p_max) & (df_10min['pow_%03d' % i_down] >= 0)]\n",
    "\n",
    "    df_sub = df_query.filter(((pl.col(\"turbine_id\") == f'wt{i_up:03d}') \n",
    "                              & (pl.col(\"power_output\") >= p_min) \n",
    "                              & (pl.col(\"power_output\") <= p_max)) \n",
    "                  | ((pl.col(\"turbine_id\") == f'wt{i_down:03d}') \n",
    "                     & (pl.col(\"power_output\") >= 0)))\n",
    "    print(df_query.filter(pl.col(\"turbine_id\") == f'wt{i_up:03d}').collect(streaming=True))\n",
    "    \n",
    "    # df_sub.loc[df_sub['wd_%03d' % i_up] >= 359.5,'wd_%03d' % i_up] = df_sub.loc[df_sub['wd_%03d' % i_up] >= 359.5,'wd_%03d' % i_up] - 360.0\n",
    "    df_sub = df_sub.with_columns(pl.when((pl.col(\"turbine_id\") == f'wt{i_up:03d}') & (pl.col(\"wind_direction\") >= 359.5))\\\n",
    "                                     .then(pl.col(\"wind_direction\") - 360.0)\\\n",
    "                                     .otherwise(pl.col(\"wind_direction\"))\\\n",
    "                                     .alias(\"wind_direction\"))\n",
    "    # df_sub[\"wd_round\"] = df_sub[f'wd_{i_up:03d}'].round()\n",
    "    df_sub = df_sub.with_columns(pl.col(\"wind_direction\").round().alias(\"wind_direction_round\"))\n",
    "\n",
    "    df_sub = df_sub.group_by(\"wind_direction_round\").mean().collect(streaming=True).to_pandas()\n",
    "\n",
    "    p_ratio = df_sub.loc[df_sub[\"turbine_id\"] == f\"wt{i_down:03d}\", f'power_output'] \\\n",
    "        / df_sub.loc[df_sub[\"turbine_id\"] == f\"wt{i_up:03d}\", f'power_output']\n",
    "\n",
    "    plt.figure()\n",
    "    plt.plot(p_ratio, label=\"_nolegend_\")\n",
    "    plt.plot(dir_align * np.ones(2),[0,1.25], 'k--', label=\"Direction of Alignment\")\n",
    "    plt.grid()\n",
    "\n",
    "    nadir = np.argmin(p_ratio[np.arange(int(np.round(dir_align)) - prat_hfwdth,int(np.round(dir_align)) + prat_hfwdth + 1) % 360])\n",
    "    nadir = nadir + int(np.round(dir_align)) - prat_hfwdth\n",
    "\n",
    "    opt_gauss_params = minimize(gauss_corr, [0, 5.0, 1.0], args=(p_ratio[np.arange(nadir-prat_hfwdth,nadir + prat_hfwdth + 1) % 360]),method='SLSQP')\n",
    "\n",
    "    xs = np.array(range(-int((60 - 1) / 2),int((60 + 1) / 2),1))\n",
    "    gauss = -1 * opt_gauss_params.x[2] * np.exp(-0.5 * ((xs - opt_gauss_params.x[0]) / opt_gauss_params.x[1])**2) + 1.\n",
    "\n",
    "    plt.plot(xs + nadir, gauss,'k',label=\"_nolegend_\")\n",
    "    plt.plot(2 * [nadir + opt_gauss_params.x[0]], [0,1.25], 'r--',label=\"Direction of Measured Wake Center\")\n",
    "    plt.title(f\"Turbine Pair: ({i_up}, {i_down})\")\n",
    "    plt.legend()\n",
    "    plt.xlabel(\"Wind Direction (deg)\")\n",
    "    plt.ylabel(\"Power Ratio (-)\")\n",
    "    \n",
    "    dir_offset = DataFilter.wrap_180(nadir + opt_gauss_params.x[0] - dir_align)\n",
    "    print(dir_offset)\n",
    "\n",
    "    dir_offsets = dir_offsets + [dir_offset]\n",
    "\n",
    "print(f\"Mean offset = {np.mean(dir_offsets)}\")\n",
    "print(f\"Std. Dev. = {np.std(dir_offsets)}\")\n",
    "print(f\"Min. = {np.min(dir_offsets)}\")\n",
    "print(f\"Max. = {np.max(dir_offsets)}\")"
   ]
  },
  {
   "cell_type": "markdown",
   "metadata": {},
   "source": [
    "## Normalization"
   ]
  },
  {
   "cell_type": "markdown",
   "metadata": {},
   "source": []
  }
 ],
 "metadata": {
  "kernelspec": {
   "display_name": "wind_forecasting_env",
   "language": "python",
   "name": "python3"
  },
  "language_info": {
   "codemirror_mode": {
    "name": "ipython",
    "version": 3
   },
   "file_extension": ".py",
   "mimetype": "text/x-python",
   "name": "python",
   "nbconvert_exporter": "python",
   "pygments_lexer": "ipython3",
   "version": "3.12.4"
  }
 },
 "nbformat": 4,
 "nbformat_minor": 4
}
