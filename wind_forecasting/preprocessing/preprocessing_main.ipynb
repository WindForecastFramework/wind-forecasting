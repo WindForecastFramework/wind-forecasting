{
 "cells": [
  {
   "cell_type": "code",
   "execution_count": null,
   "metadata": {},
   "outputs": [],
   "source": [
    "from data_loader import DataLoader\n",
    "from data_inspector import DataInspector\n",
    "from data_filter import DataFilter"
   ]
  },
  {
   "cell_type": "code",
   "execution_count": 2,
   "metadata": {},
   "outputs": [],
   "source": [
    "data_dir = \"/Users/ahenry/Documents/toolboxes/wind_forecasting/examples/data\"\n",
    "file_signature = \"kp.turbine.z02.b0.202203*.wt073.nc\"\n",
    "multiprocessor = None\n",
    "\n",
    "data_loader = DataLoader(data_dir=data_dir, file_signature=file_signature, multiprocessor=multiprocessor)"
   ]
  },
  {
   "cell_type": "code",
   "execution_count": null,
   "metadata": {},
   "outputs": [],
   "source": [
    "data_loader.print_netcdf_structure(data_loader.file_paths[0])"
   ]
  },
  {
   "cell_type": "code",
   "execution_count": null,
   "metadata": {},
   "outputs": [],
   "source": [
    "df = data_loader.read_multi_netcdf()"
   ]
  },
  {
   "cell_type": "code",
   "execution_count": 5,
   "metadata": {},
   "outputs": [],
   "source": [
    "data_filter = DataFilter(raw_df=df)\n",
    "df = data_filter.filter_turbine_data(status_codes=[1], availability_codes=[100], include_nan=True)"
   ]
  },
  {
   "cell_type": "code",
   "execution_count": 6,
   "metadata": {},
   "outputs": [],
   "source": [
    "turbine_input_filepath = \"/Users/ahenry/Documents/toolboxes/wind_forecasting/examples/inputs/ge_282_127.yaml\"\n",
    "farm_input_filepath = \"/Users/ahenry/Documents/toolboxes/wind_forecasting/examples/inputs/gch_KP_v4.yaml\"\n",
    "data_inspector = DataInspector(df=df, turbine_input_filepath=turbine_input_filepath, farm_input_filepath=farm_input_filepath)"
   ]
  },
  {
   "cell_type": "code",
   "execution_count": null,
   "metadata": {},
   "outputs": [],
   "source": [
    "# from types import MethodType\n",
    "# data_inspector.plot_time_series = MethodType(plot_time_series, data_inspector)\n",
    "data_inspector.plot_time_series([\"wt073\"])"
   ]
  },
  {
   "cell_type": "code",
   "execution_count": null,
   "metadata": {},
   "outputs": [],
   "source": [
    "data_inspector.plot_scatter_wind_speed_power()"
   ]
  }
 ],
 "metadata": {
  "kernelspec": {
   "display_name": "openoa-env",
   "language": "python",
   "name": "python3"
  },
  "language_info": {
   "codemirror_mode": {
    "name": "ipython",
    "version": 3
   },
   "file_extension": ".py",
   "mimetype": "text/x-python",
   "name": "python",
   "nbconvert_exporter": "python",
   "pygments_lexer": "ipython3",
   "version": "3.11.10"
  }
 },
 "nbformat": 4,
 "nbformat_minor": 2
}
