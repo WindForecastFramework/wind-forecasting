{
 "cells": [
  {
   "cell_type": "code",
   "execution_count": null,
   "metadata": {
    "id": "c0_YBMPNF9Ec"
   },
   "outputs": [],
   "source": [
    "import numpy as np\n",
    "import matplotlib.pyplot as plt\n",
    "import pandas as pd\n",
    "import datetime\n",
    "import random\n",
    "import math\n",
    "%matplotlib inline\n",
    "\n",
    "random.seed(1011)\n",
    "np.random.seed(1011)"
   ]
  },
  {
   "cell_type": "code",
   "execution_count": null,
   "metadata": {
    "id": "eDcw1A_LHuKJ"
   },
   "outputs": [],
   "source": [
    "def quick_plot(x, y, time_from, time_to, var_from, var_to):\n",
    "    plt.plot(x[time_from:time_to], y[time_from:time_to, var_from:var_to])"
   ]
  },
  {
   "cell_type": "code",
   "execution_count": null,
   "metadata": {
    "id": "n0EwTwRgN2_a"
   },
   "outputs": [],
   "source": [
    "# Warning: this will create a ~1.6GB CSV file and uses quite a bit of RAM...\n",
    "LENGTH = 10_000_000\n",
    "NUM_VARS = 20\n",
    "\n",
    "idxs = np.expand_dims(np.arange(LENGTH), -1)"
   ]
  },
  {
   "cell_type": "markdown",
   "metadata": {
    "id": "lKvy-bcjIm6t"
   },
   "source": [
    "## Dependent Sine Waves - Spacetimeformer Toy Dataset\n",
    "The first step is to create variable patterns with a clear relationship to other variables. We do this by making a collection of sine waves with varying frequences and then adding the average of all other variables. This is essentially the \"Toy Dataset\" from the Spacetimeformer paper but with much lower frequencies. Originally inspired by [(Shih, Sun, and Lee 2019)](https://arxiv.org/abs/1809.04206)."
   ]
  },
  {
   "cell_type": "code",
   "execution_count": null,
   "metadata": {
    "id": "s03Nr1HUN4BG"
   },
   "outputs": [],
   "source": [
    "def sin_features(t, i):\n",
    "  return np.sin((2 * np.pi * i * t) / 10 ** 4).astype(np.float16)"
   ]
  },
  {
   "cell_type": "code",
   "execution_count": null,
   "metadata": {
    "id": "-oL6X8bZQENj"
   },
   "outputs": [],
   "source": [
    "vars = np.repeat(np.expand_dims(np.arange(NUM_VARS), 0), repeats=LENGTH, axis=0) + 1"
   ]
  },
  {
   "cell_type": "code",
   "execution_count": null,
   "metadata": {
    "colab": {
     "base_uri": "https://localhost:8080/"
    },
    "id": "ftcfKMYMR61-",
    "outputId": "5d93b0e5-b652-45e2-9349-f7fef22fef9b"
   },
   "outputs": [],
   "source": [
    "raw_sine_waves = sin_features(idxs, vars)\n",
    "raw_sine_waves.shape"
   ]
  },
  {
   "cell_type": "code",
   "execution_count": null,
   "metadata": {
    "id": "AcXL6JIHSms7"
   },
   "outputs": [],
   "source": [
    "summed_sine_features = float(NUM_VARS - 1 / NUM_VARS) * raw_sine_waves + raw_sine_waves.mean(-1, keepdims=True)"
   ]
  },
  {
   "cell_type": "markdown",
   "metadata": {
    "id": "qybHFYHGKTsm"
   },
   "source": [
    "The result is a `[-1, 1]` bounded dataset of semi-periodic data where the smaller variable indices have lower frequencies and larger indices have higher frequences. There are also times where global behavior is very unstable and difficult to predict."
   ]
  },
  {
   "cell_type": "code",
   "execution_count": null,
   "metadata": {
    "colab": {
     "base_uri": "https://localhost:8080/",
     "height": 265
    },
    "id": "HfUQ-FEGJtqU",
    "outputId": "40b3f8f8-edb8-48ad-86e1-5f4e5bb0796b"
   },
   "outputs": [],
   "source": [
    "quick_plot(idxs, summed_sine_features, 2000, 5000, 0, 5); quick_plot(idxs, summed_sine_features, 2000, 5000, -4, -1); "
   ]
  },
  {
   "cell_type": "code",
   "execution_count": null,
   "metadata": {
    "colab": {
     "base_uri": "https://localhost:8080/",
     "height": 265
    },
    "id": "Csp2a25lL3r7",
    "outputId": "cf2588da-4176-4e66-82fd-d5ee164087be"
   },
   "outputs": [],
   "source": [
    "quick_plot(idxs, summed_sine_features, 4_000, 8_000, 1, 15)"
   ]
  },
  {
   "cell_type": "markdown",
   "metadata": {
    "id": "ETmLbUsjMeGN"
   },
   "source": [
    "At this point, assigning arbitrary `datetimes` to the indices would recreate the Spacetimeformer toy dataset. However, we need a very large dataset to test long-sequence models, and this pattern does not seem interesting enough over millions of timesteps."
   ]
  },
  {
   "cell_type": "markdown",
   "metadata": {
    "id": "rmkQ6Jl7NiCK"
   },
   "source": [
    "## Long-Sequence Dataset with Multiple Pattern Resolutions\n",
    "\n",
    "We create a net positive or negative trend for every variable to make sure the dataset is non-stationary."
   ]
  },
  {
   "cell_type": "code",
   "execution_count": null,
   "metadata": {
    "id": "hN5HBP3rUjOT"
   },
   "outputs": [],
   "source": [
    "global_trends = ((((np.random.random(size=(1, NUM_VARS)) - .5))) / (LENGTH) * idxs).astype(np.float16)"
   ]
  },
  {
   "cell_type": "code",
   "execution_count": null,
   "metadata": {
    "colab": {
     "base_uri": "https://localhost:8080/",
     "height": 278
    },
    "id": "sdFGgdcuN5Iw",
    "outputId": "604b8812-e2fb-47e8-d1c9-e606cfd398ae"
   },
   "outputs": [],
   "source": [
    "quick_plot(idxs, global_trends, 0, LENGTH, 0, 10)"
   ]
  },
  {
   "cell_type": "markdown",
   "metadata": {
    "id": "urFI1SLJPCB3"
   },
   "source": [
    "Next we add \"seasonal\" patterns with periods >> the dependent sine waves. The seasonal effect has a random lag or offset for each varible."
   ]
  },
  {
   "cell_type": "code",
   "execution_count": null,
   "metadata": {
    "id": "jYezKB51UmvL"
   },
   "outputs": [],
   "source": [
    "offset = np.random.randint(low=-LENGTH // 4, high=LENGTH // 4, size=(1, NUM_VARS))\n",
    "period = np.random.randint(low=4, high=8, size=(1, NUM_VARS))"
   ]
  },
  {
   "cell_type": "code",
   "execution_count": null,
   "metadata": {
    "id": "gDWt4QMUZeDR"
   },
   "outputs": [],
   "source": [
    "semiglobal_trends = np.sin((idxs - offset) * (period * math.pi / LENGTH)).astype(np.float16)"
   ]
  },
  {
   "cell_type": "markdown",
   "metadata": {
    "id": "-Tizlut7PWRj"
   },
   "source": [
    "We generate random noise where each variable has a slighly different distribution."
   ]
  },
  {
   "cell_type": "code",
   "execution_count": null,
   "metadata": {
    "id": "UANJVVHmbCtf"
   },
   "outputs": [],
   "source": [
    "random_vars = np.random.random(NUM_VARS)"
   ]
  },
  {
   "cell_type": "code",
   "execution_count": null,
   "metadata": {
    "id": "sjjsCGKxel81"
   },
   "outputs": [],
   "source": [
    "random_noise = np.random.normal(loc=np.zeros_like(random_vars), scale=random_vars, size=(LENGTH, NUM_VARS)).astype(np.float16)\n",
    "#random_walks = np.cumsum(random_noise, axis=0)"
   ]
  },
  {
   "cell_type": "markdown",
   "metadata": {
    "id": "E6PoKD3bPnqt"
   },
   "source": [
    "Now we assign indices to calendar dates. We choose minute intervals so that a 10M length dataset spans about 20 years."
   ]
  },
  {
   "cell_type": "code",
   "execution_count": null,
   "metadata": {
    "id": "mxf7-Fgje9U5"
   },
   "outputs": [],
   "source": [
    "times = []\n",
    "t = datetime.datetime(year=2000, month=1, day=1, hour=0, minute=0, second=0)\n",
    "for i in range(LENGTH):\n",
    "  t += datetime.timedelta(minutes=1)\n",
    "  times.append(t)\n",
    "times = np.array(times, dtype=np.datetime64)"
   ]
  },
  {
   "cell_type": "markdown",
   "metadata": {
    "id": "EU0oxs70S9kF"
   },
   "source": [
    "Create the final dataset by summing four patterns of increasing resolution:\n",
    "1. non-stationary trends (spanning entire datasaet)\n",
    "2. periodic \"seasonal\" trends (spanning multiple years)\n",
    "3. dependent sine wave patterns (spanning thousands of minutes)\n",
    "4. pure random noise"
   ]
  },
  {
   "cell_type": "code",
   "execution_count": null,
   "metadata": {
    "colab": {
     "base_uri": "https://localhost:8080/",
     "height": 265
    },
    "id": "BrTOmeVEQAwy",
    "outputId": "d662f5c1-db05-4cf2-a15d-4094afd628dd"
   },
   "outputs": [],
   "source": [
    "quick_plot(times, global_trends + .1 * semiglobal_trends, 0, LENGTH, 5, 10)"
   ]
  },
  {
   "cell_type": "code",
   "execution_count": null,
   "metadata": {
    "id": "pIkVO58gToCu"
   },
   "outputs": [],
   "source": [
    "quick_plot(times, global_trends + .1 * semiglobal_trends + .01 * summed_sine_features, 0, LENGTH // 100, 5, 7)"
   ]
  },
  {
   "cell_type": "code",
   "execution_count": null,
   "metadata": {},
   "outputs": [],
   "source": [
    "quick_plot(times, global_trends + .1 * semiglobal_trends + 0.01 * summed_sine_features + .005 * random_noise, 0, 10_000, 12, 15)"
   ]
  },
  {
   "cell_type": "code",
   "execution_count": null,
   "metadata": {
    "id": "bRVp1nVl955h"
   },
   "outputs": [],
   "source": [
    "ts = 5. * (global_trends + .1 * semiglobal_trends + .01 * summed_sine_features + 5e-3 * random_noise)"
   ]
  },
  {
   "cell_type": "code",
   "execution_count": null,
   "metadata": {
    "id": "-5TgM6FsAFBc"
   },
   "outputs": [],
   "source": [
    "df_dict = {f\"y{i}\":ts[:, i] for i in range(NUM_VARS)}; df_dict[\"Datetime\"] = times"
   ]
  },
  {
   "cell_type": "code",
   "execution_count": null,
   "metadata": {
    "id": "AkAVlh3IA6-o"
   },
   "outputs": [],
   "source": [
    "df = pd.DataFrame(df_dict); df"
   ]
  },
  {
   "cell_type": "code",
   "execution_count": null,
   "metadata": {
    "id": "OVK-xpsuBUJV"
   },
   "outputs": [],
   "source": [
    "df.to_csv(\"synthetic_lr_dset.csv\", index=False)"
   ]
  }
 ],
 "metadata": {
  "colab": {
   "collapsed_sections": [],
   "name": "Synthetic Dataset.ipynb",
   "provenance": []
  },
  "kernelspec": {
   "display_name": "Python 3 (ipykernel)",
   "language": "python",
   "name": "python3"
  },
  "language_info": {
   "codemirror_mode": {
    "name": "ipython",
    "version": 3
   },
   "file_extension": ".py",
   "mimetype": "text/x-python",
   "name": "python",
   "nbconvert_exporter": "python",
   "pygments_lexer": "ipython3",
   "version": "3.9.7"
  }
 },
 "nbformat": 4,
 "nbformat_minor": 1
}
