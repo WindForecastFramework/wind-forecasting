{
 "cells": [
  {
   "cell_type": "code",
   "execution_count": 1,
   "metadata": {},
   "outputs": [],
   "source": [
    "import netCDF4 as nc\n",
    "import os\n",
    "import matplotlib.pyplot as plt\n",
    "import numpy as np\n",
    "import pandas as pd\n",
    "import seaborn as sns\n",
    "from windrose import WindroseAxes\n",
    "import scipy.stats as stats\n",
    "import glob"
   ]
  },
  {
   "cell_type": "code",
   "execution_count": 2,
   "metadata": {},
   "outputs": [],
   "source": [
    "def get_wind_turbine_files(folder_path):\n",
    "    return glob.glob(f\"{folder_path}/kp.turbine.z02.b0.*.wt*.nc\") # Get all the wts in the folder"
   ]
  },
  {
   "cell_type": "code",
   "execution_count": 3,
   "metadata": {},
   "outputs": [],
   "source": [
    "def print_netcdf_structure(file_path):\n",
    "    try:\n",
    "        with nc.Dataset(file_path, 'r') as dataset:\n",
    "            print(f\"NetCDF File: {os.path.basename(file_path)}\")\n",
    "            print(\"\\nGlobal Attributes:\")\n",
    "            for attr in dataset.ncattrs():\n",
    "                print(f\"  {attr}: {getattr(dataset, attr)}\")\n",
    "\n",
    "            print(\"\\nDimensions:\")\n",
    "            for dim_name, dim in dataset.dimensions.items():\n",
    "                print(f\"  {dim_name}: {len(dim)}\")\n",
    "\n",
    "            print(\"\\nVariables:\")\n",
    "            for var_name, var in dataset.variables.items():\n",
    "                print(f\"  {var_name}:\")\n",
    "                print(f\"    Dimensions: {var.dimensions}\")\n",
    "                print(f\"    Shape: {var.shape}\")\n",
    "                print(f\"    Data type: {var.dtype}\")\n",
    "                print(\"    Attributes:\")\n",
    "                for attr in var.ncattrs():\n",
    "                    print(f\"      {attr}: {getattr(var, attr)}\")\n",
    "\n",
    "    except Exception as e:\n",
    "        print(f\"Error reading NetCDF file: {e}\")"
   ]
  },
  {
   "cell_type": "code",
   "execution_count": 4,
   "metadata": {},
   "outputs": [],
   "source": [
    "def create_df_from_netcdf(file_paths):\n",
    "    dfs = []\n",
    "    for file_path in file_paths:\n",
    "        try:\n",
    "            with nc.Dataset(file_path, 'r') as dataset:\n",
    "                # Convert time to datetime\n",
    "                time_var = dataset.variables['date']\n",
    "                time = nc.num2date(time_var[:], time_var.units)\n",
    "                time = pd.to_datetime([t.strftime('%Y-%m-%d %H:%M:%S') for t in time])\n",
    "\n",
    "                data = {\n",
    "                    'time': time,\n",
    "                    'generator_current_phase_1': dataset.variables['WCNV.GnA1'][:],\n",
    "                    'generator_current_phase_2': dataset.variables['WCNV.GnA2'][:],\n",
    "                    'generator_current_phase_3': dataset.variables['WCNV.GnA3'][:],\n",
    "                    'generator_voltage_phase_1': dataset.variables['WCNV.GnPNV1'][:],\n",
    "                    'generator_voltage_phase_2': dataset.variables['WCNV.GnPNV2'][:],\n",
    "                    'generator_voltage_phase_3': dataset.variables['WCNV.GnPNV3'][:],\n",
    "                    'power_output': dataset.variables['WTUR.W'][:],\n",
    "                    'turbine_availability': dataset.variables['WAVL.TurAvl'][:],\n",
    "                    'generator_bearing_de_temp': dataset.variables['WGEN.BrgDETmp'][:],\n",
    "                    'generator_bearing_nde_temp': dataset.variables['WGEN.BrgNDETmp'][:],\n",
    "                    'generator_inlet_temp': dataset.variables['WGEN.InLetTmp'][:],\n",
    "                    'generator_stator_temp_1': dataset.variables['WGEN.SttTmp1'][:],\n",
    "                    'generator_stator_temp_2': dataset.variables['WGEN.SttTmp2'][:],\n",
    "                    'generator_rotor_speed': dataset.variables['WGEN.RotSpd'][:],\n",
    "                    'nacelle_direction': dataset.variables['WNAC.Dir'][:],\n",
    "                    'nacelle_temperature': dataset.variables['WNAC.Tmp'][:],\n",
    "                    'ambient_temperature': dataset.variables['WMET.EnvTmp'][:],\n",
    "                    'blade_pitch_angle_1': dataset.variables['WROT.BlPthAngVal1'][:],\n",
    "                    'blade_pitch_angle_2': dataset.variables['WROT.BlPthAngVal2'][:],\n",
    "                    'blade_pitch_angle_3': dataset.variables['WROT.BlPthAngVal3'][:],\n",
    "                    'rotor_speed': dataset.variables['WROT.RotSpd'][:],\n",
    "                    'turbine_status': dataset.variables['WTUR.TurSt'][:],\n",
    "                    'wind_direction': dataset.variables['WMET.HorWdDir'][:],\n",
    "                    'wind_speed': dataset.variables['WMET.HorWdSpd'][:]\n",
    "                }\n",
    "                df = pd.DataFrame(data)\n",
    "                df['turbine_id'] = os.path.basename(file_path).split('.')[-2]  # Extract turbine ID            \n",
    "                df = df.groupby('time').agg({   # Group by timestamp and aggregate\n",
    "                    col: 'first' for col in df.columns if col != 'time'\n",
    "                }).reset_index()            \n",
    "                dfs.append(df)\n",
    "                print(f\"Processed {file_path}, shape: {df.shape}\")\n",
    "        except Exception as e:\n",
    "            print(f\"Error processing {file_path}: {e}\")\n",
    "                \n",
    "    if dfs:\n",
    "        combined_df = pd.concat(dfs, ignore_index=True)\n",
    "        combined_df.set_index(['turbine_id', 'time'], inplace=True)\n",
    "        print(f\"Combined DataFrame shape: {combined_df.shape}\")\n",
    "        print(f\"Unique turbine IDs: {combined_df.index.get_level_values('turbine_id').unique()}\")\n",
    "        return combined_df\n",
    "    else:\n",
    "        print(\"No data frames were created.\")\n",
    "        return None"
   ]
  },
  {
   "cell_type": "code",
   "execution_count": 5,
   "metadata": {},
   "outputs": [],
   "source": [
    "def filter_turbine_data(df, status_codes=None, availability_codes=None, include_nan=False):\n",
    "    \"\"\"\n",
    "    status_codes (list): List of status codes to include (e.g., [1, 3])\n",
    "    availability_codes (list): List of availability codes to include (e.g., [100, 50])\n",
    "    include_nan (bool): Whether to include NaN values in the filter\n",
    "    \"\"\"\n",
    "    filtered_df = df.copy()\n",
    "    \n",
    "    # Forward fill NaN values\n",
    "    filtered_df['turbine_status'] = filtered_df['turbine_status'].ffill()\n",
    "    filtered_df['turbine_availability'] = filtered_df['turbine_availability'].ffill()\n",
    "    \n",
    "    # Create masks for filtering\n",
    "    status_mask = pd.Series(True, index=filtered_df.index)\n",
    "    availability_mask = pd.Series(True, index=filtered_df.index)\n",
    "    \n",
    "    if status_codes is not None:\n",
    "        status_mask = filtered_df['turbine_status'].isin(status_codes)\n",
    "    \n",
    "    if availability_codes is not None:\n",
    "        availability_mask = filtered_df['turbine_availability'].isin(availability_codes)\n",
    "    \n",
    "    # Combine masks\n",
    "    combined_mask = status_mask & availability_mask\n",
    "    \n",
    "    if include_nan:\n",
    "        combined_mask |= (filtered_df['turbine_status'].isna() & filtered_df['turbine_availability'].isna())\n",
    "    \n",
    "    return filtered_df[combined_mask]\n"
   ]
  },
  {
   "cell_type": "code",
   "execution_count": 6,
   "metadata": {},
   "outputs": [],
   "source": [
    "def plot_time_series(df, turbine_ids):\n",
    "    if isinstance(turbine_ids, str):\n",
    "        turbine_ids = [turbine_ids]  # Convert single ID to list\n",
    "    \n",
    "    available_turbines = df.index.get_level_values('turbine_id').unique()\n",
    "    valid_turbines = [tid for tid in turbine_ids if tid in available_turbines]\n",
    "    \n",
    "    if not valid_turbines:\n",
    "        print(f\"Error: No valid turbine IDs\")\n",
    "        print(\"Available turbine IDs:\", available_turbines)\n",
    "        return\n",
    "    \n",
    "    sns.set_style(\"whitegrid\")\n",
    "    sns.set_palette(\"deep\")\n",
    "\n",
    "    fig, (ax1, ax2) = plt.subplots(2, 1, figsize=(12, 10), sharex=True)\n",
    "    \n",
    "    for turbine_id in valid_turbines:\n",
    "        turbine_data = df.loc[turbine_id].reset_index()\n",
    "        \n",
    "        sns.lineplot(data=turbine_data, x='time', y='wind_speed', ax=ax1, label=f'{turbine_id} Wind Speed')\n",
    "        sns.lineplot(data=turbine_data, x='time', y='power_output', ax=ax2, label=f'{turbine_id} Power Output')\n",
    "    \n",
    "    ax1.set_ylabel('Wind Speed (m/s)')\n",
    "    ax2.set_ylabel('Power Output (kW)')\n",
    "    ax2.set_xlabel('Time')\n",
    "    \n",
    "    ax1.set_title('Wind Speed Over Time', fontsize=14)\n",
    "    ax2.set_title('Power Output Over Time', fontsize=14)\n",
    "    \n",
    "    fig.suptitle(f'Wind Speed and Power Output for Turbines: {\", \".join(valid_turbines)}', fontsize=16)\n",
    "    \n",
    "    ax1.legend(loc='upper left', bbox_to_anchor=(1, 1))\n",
    "    ax2.legend(loc='upper left', bbox_to_anchor=(1, 1))\n",
    "    \n",
    "    plt.tight_layout()\n",
    "    plt.show()"
   ]
  },
  {
   "cell_type": "code",
   "execution_count": 7,
   "metadata": {},
   "outputs": [],
   "source": [
    "def plot_scatter_wind_speed_power(df):\n",
    "    plt.figure(figsize=(12, 6))\n",
    "    sns.scatterplot(data=df, x='wind_speed', y='power_output')\n",
    "    plt.title('Scatter Plot of Wind Speed vs Power Output')\n",
    "    plt.xlabel('Wind Speed')\n",
    "    plt.ylabel('Power Output')\n",
    "    plt.show()"
   ]
  },
  {
   "cell_type": "code",
   "execution_count": 8,
   "metadata": {},
   "outputs": [],
   "source": [
    "def plot_wind_rose(wind_direction, wind_speed):\n",
    "    plt.figure(figsize=(10, 10))\n",
    "    ax = WindroseAxes.from_ax()\n",
    "    ax.bar(wind_direction, wind_speed, normed=True, opening=0.8, edgecolor='white')\n",
    "    ax.set_legend()\n",
    "    plt.title('Wind Rose')\n",
    "    plt.show()"
   ]
  },
  {
   "cell_type": "code",
   "execution_count": 9,
   "metadata": {},
   "outputs": [],
   "source": [
    "def plot_temperature_distribution(df):\n",
    "    temp_columns = [\n",
    "        'generator_bearing_de_temp',\n",
    "        'generator_bearing_nde_temp',\n",
    "        'generator_inlet_temp',\n",
    "        'generator_stator_temp_1',\n",
    "        'generator_stator_temp_2',\n",
    "        'nacelle_temperature',\n",
    "        'ambient_temperature'\n",
    "    ]\n",
    "    \n",
    "    plt.figure(figsize=(15, 10))\n",
    "    for col in temp_columns:\n",
    "        sns.histplot(df[col], bins=20, kde=True, label=col)\n",
    "    \n",
    "    plt.title('Temperature Distributions')\n",
    "    plt.xlabel('Temperature')\n",
    "    plt.ylabel('Frequency')\n",
    "    plt.legend()\n",
    "    plt.show()"
   ]
  },
  {
   "cell_type": "code",
   "execution_count": 10,
   "metadata": {},
   "outputs": [],
   "source": [
    "def plot_heatmap_correlation(df):\n",
    "    plt.figure(figsize=(12, 6))\n",
    "    sns.heatmap(df.corr(), annot=True, cmap='coolwarm', vmin=-1, vmax=1, center=0)\n",
    "    plt.title('Heatmap of Correlation Matrix')\n",
    "    plt.show()"
   ]
  },
  {
   "cell_type": "code",
   "execution_count": 11,
   "metadata": {},
   "outputs": [],
   "source": [
    "def plot_boxplot_wind_speed(df, turbine_id):\n",
    "    # Select data for the specified turbine\n",
    "    turbine_data = df.loc[turbine_id]\n",
    "    \n",
    "    # Extract hour from the time index\n",
    "    turbine_data = turbine_data.reset_index()\n",
    "    turbine_data['hour'] = turbine_data['time'].dt.hour\n",
    "    \n",
    "    plt.figure(figsize=(12, 6))\n",
    "    sns.boxplot(data=turbine_data, x='hour', y='wind_speed')\n",
    "    plt.title(f'Wind Speed Distribution by Hour for Turbine {turbine_id}')\n",
    "    plt.xlabel('Hour of Day')\n",
    "    plt.ylabel('Wind Speed (m/s)')\n",
    "    plt.show()  "
   ]
  },
  {
   "cell_type": "code",
   "execution_count": 12,
   "metadata": {},
   "outputs": [],
   "source": [
    "def plot_wind_speed_weibull(df):\n",
    "    # Extract wind speed data\n",
    "    wind_speeds = df['wind_speed'].dropna()\n",
    "\n",
    "    # Fit Weibull distribution\n",
    "    shape, loc, scale = stats.weibull_min.fit(wind_speeds, floc=0)\n",
    "\n",
    "    # Create a range of wind speeds for the fitted distribution\n",
    "    x = np.linspace(0, wind_speeds.max(), 100)\n",
    "    y = stats.weibull_min.pdf(x, shape, loc, scale)\n",
    "\n",
    "    # Plot\n",
    "    plt.figure(figsize=(12, 6))\n",
    "    sns.histplot(wind_speeds, stat='density', kde=True, color='skyblue', label='Observed')\n",
    "    plt.plot(x, y, 'r-', lw=2, label=f'Weibull (k={shape:.2f}, λ={scale:.2f})')\n",
    "    \n",
    "    plt.title('Wind Speed Distribution with Fitted Weibull', fontsize=16)\n",
    "    plt.xlabel('Wind Speed (m/s)', fontsize=12)\n",
    "    plt.ylabel('Density', fontsize=12)\n",
    "    plt.legend(fontsize=10)\n",
    "    plt.grid(True, alpha=0.3)\n",
    "    sns.despine()\n",
    "    plt.show()\n",
    "\n",
    "    print(f\"Weibull shape parameter (k): {shape:.2f}\")\n",
    "    print(f\"Weibull scale parameter (λ): {scale:.2f}\")"
   ]
  },
  {
   "cell_type": "markdown",
   "metadata": {},
   "source": [
    "**Main execution part**"
   ]
  },
  {
   "cell_type": "code",
   "execution_count": 29,
   "metadata": {},
   "outputs": [],
   "source": [
    "# folder_path = \"../../awaken_data/\"\n",
    "folder_path = \"/scratch/alpine/aohe7145/awaken_data/kp.turbine.z02.b0/\"\n",
    "file_path = folder_path + \"kp.turbine.z02.b0.20220101.000000.wt001.nc\"\n",
    "file_paths = get_wind_turbine_files(folder_path)"
   ]
  },
  {
   "cell_type": "code",
   "execution_count": 30,
   "metadata": {},
   "outputs": [],
   "source": [
    "# print(nc.Dataset(file_path, 'r'))"
   ]
  },
  {
   "cell_type": "code",
   "execution_count": 31,
   "metadata": {},
   "outputs": [],
   "source": [
    "# print_netcdf_structure(file_path)"
   ]
  },
  {
   "cell_type": "code",
   "execution_count": 2,
   "metadata": {},
   "outputs": [
    {
     "ename": "NameError",
     "evalue": "name 'create_df_from_netcdf' is not defined",
     "output_type": "error",
     "traceback": [
      "\u001b[0;31m---------------------------------------------------------------------------\u001b[0m",
      "\u001b[0;31mNameError\u001b[0m                                 Traceback (most recent call last)",
      "Cell \u001b[0;32mIn[2], line 1\u001b[0m\n\u001b[0;32m----> 1\u001b[0m df \u001b[38;5;241m=\u001b[39m \u001b[43mcreate_df_from_netcdf\u001b[49m(file_paths)\n\u001b[1;32m      2\u001b[0m \u001b[38;5;66;03m# print(df.head())\u001b[39;00m\n",
      "\u001b[0;31mNameError\u001b[0m: name 'create_df_from_netcdf' is not defined"
     ]
    }
   ],
   "source": [
    "df = create_df_from_netcdf(file_paths)\n",
    "# print(df.head())"
   ]
  },
  {
   "cell_type": "code",
   "execution_count": 1,
   "metadata": {},
   "outputs": [
    {
     "ename": "NameError",
     "evalue": "name 'filter_turbine_data' is not defined",
     "output_type": "error",
     "traceback": [
      "\u001b[0;31m---------------------------------------------------------------------------\u001b[0m",
      "\u001b[0;31mNameError\u001b[0m                                 Traceback (most recent call last)",
      "Cell \u001b[0;32mIn[1], line 1\u001b[0m\n\u001b[0;32m----> 1\u001b[0m filtered_df \u001b[38;5;241m=\u001b[39m \u001b[43mfilter_turbine_data\u001b[49m(df, status_codes\u001b[38;5;241m=\u001b[39m[\u001b[38;5;241m1\u001b[39m], availability_codes\u001b[38;5;241m=\u001b[39m[\u001b[38;5;241m100\u001b[39m], include_nan\u001b[38;5;241m=\u001b[39m\u001b[38;5;28;01mTrue\u001b[39;00m)\n\u001b[1;32m      2\u001b[0m \u001b[38;5;66;03m# filtered_df = filtered_df.ffill()\u001b[39;00m\n\u001b[1;32m      3\u001b[0m \u001b[38;5;66;03m# print(filtered_df.head(8))\u001b[39;00m\n\u001b[1;32m      4\u001b[0m \u001b[38;5;28mprint\u001b[39m(\u001b[38;5;124mf\u001b[39m\u001b[38;5;124m\"\u001b[39m\u001b[38;5;124mOriginal shape: \u001b[39m\u001b[38;5;132;01m{\u001b[39;00mdf\u001b[38;5;241m.\u001b[39mshape\u001b[38;5;132;01m}\u001b[39;00m\u001b[38;5;124m, Filtered shape: \u001b[39m\u001b[38;5;132;01m{\u001b[39;00mfiltered_df\u001b[38;5;241m.\u001b[39mshape\u001b[38;5;132;01m}\u001b[39;00m\u001b[38;5;124m\"\u001b[39m)\n",
      "\u001b[0;31mNameError\u001b[0m: name 'filter_turbine_data' is not defined"
     ]
    }
   ],
   "source": [
    "filtered_df = filter_turbine_data(df, status_codes=[1], availability_codes=[100], include_nan=True)\n",
    "# filtered_df = filtered_df.ffill()\n",
    "# print(filtered_df.head(8))\n",
    "print(f\"Original shape: {df.shape}, Filtered shape: {filtered_df.shape}\")"
   ]
  },
  {
   "cell_type": "code",
   "execution_count": null,
   "metadata": {},
   "outputs": [],
   "source": [
    "plot_time_series(filtered_df, ['wt001', 'wt002'])"
   ]
  },
  {
   "cell_type": "code",
   "execution_count": null,
   "metadata": {},
   "outputs": [],
   "source": [
    "plot_scatter_wind_speed_power(filtered_df)"
   ]
  },
  {
   "cell_type": "code",
   "execution_count": null,
   "metadata": {},
   "outputs": [],
   "source": [
    "plot_wind_speed_weibull(filtered_df)"
   ]
  },
  {
   "cell_type": "code",
   "execution_count": null,
   "metadata": {},
   "outputs": [],
   "source": [
    "plot_wind_rose(filtered_df['wind_direction'], filtered_df['wind_speed'])"
   ]
  },
  {
   "cell_type": "code",
   "execution_count": null,
   "metadata": {},
   "outputs": [],
   "source": [
    "plot_temperature_distribution(filtered_df)"
   ]
  },
  {
   "cell_type": "code",
   "execution_count": null,
   "metadata": {},
   "outputs": [],
   "source": [
    "plot_heatmap_correlation(filtered_df)"
   ]
  },
  {
   "cell_type": "code",
   "execution_count": null,
   "metadata": {},
   "outputs": [],
   "source": [
    "plot_boxplot_wind_speed(filtered_df, 'wt001')"
   ]
  },
  {
   "cell_type": "code",
   "execution_count": null,
   "metadata": {},
   "outputs": [],
   "source": [
    "print(df['wind_direction'].unique())\n",
    "print(\"-\"*100  )\n",
    "print(df['turbine_status'].unique()) # 1: running, 3: not running\n",
    "print(df['turbine_availability'].unique()) # 100, 50 (partially available?)\n"
   ]
  }
 ],
 "metadata": {
  "kernelspec": {
   "display_name": "Python 3 (ipykernel)",
   "language": "python",
   "name": "python3"
  },
  "language_info": {
   "codemirror_mode": {
    "name": "ipython",
    "version": 3
   },
   "file_extension": ".py",
   "mimetype": "text/x-python",
   "name": "python",
   "nbconvert_exporter": "python",
   "pygments_lexer": "ipython3",
   "version": "3.12.5"
  }
 },
 "nbformat": 4,
 "nbformat_minor": 4
}
